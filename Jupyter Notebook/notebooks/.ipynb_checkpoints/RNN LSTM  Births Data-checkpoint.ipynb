{
 "cells": [
  {
   "cell_type": "markdown",
   "metadata": {},
   "source": [
    "# Recurrent Neural Networks"
   ]
  },
  {
   "cell_type": "markdown",
   "metadata": {},
   "source": [
    "### Importing libraries "
   ]
  },
  {
   "cell_type": "code",
   "execution_count": 615,
   "metadata": {
    "collapsed": true
   },
   "outputs": [],
   "source": [
    "import pandas as pd\n",
    "import numpy as np\n",
    "%matplotlib inline\n",
    "import matplotlib.pyplot as plt\n",
    "from pandas.tseries.offsets import MonthEnd"
   ]
  },
  {
   "cell_type": "markdown",
   "metadata": {},
   "source": [
    "### Importing dataset"
   ]
  },
  {
   "cell_type": "code",
   "execution_count": 616,
   "metadata": {},
   "outputs": [
    {
     "data": {
      "text/html": [
       "<div>\n",
       "<table border=\"1\" class=\"dataframe\">\n",
       "  <thead>\n",
       "    <tr style=\"text-align: right;\">\n",
       "      <th></th>\n",
       "      <th>Date</th>\n",
       "      <th>Births</th>\n",
       "    </tr>\n",
       "  </thead>\n",
       "  <tbody>\n",
       "    <tr>\n",
       "      <th>0</th>\n",
       "      <td>1977-01-01</td>\n",
       "      <td>208</td>\n",
       "    </tr>\n",
       "    <tr>\n",
       "      <th>1</th>\n",
       "      <td>1977-01-02</td>\n",
       "      <td>241</td>\n",
       "    </tr>\n",
       "    <tr>\n",
       "      <th>2</th>\n",
       "      <td>1977-01-03</td>\n",
       "      <td>274</td>\n",
       "    </tr>\n",
       "    <tr>\n",
       "      <th>3</th>\n",
       "      <td>1977-01-04</td>\n",
       "      <td>256</td>\n",
       "    </tr>\n",
       "    <tr>\n",
       "      <th>4</th>\n",
       "      <td>1977-01-05</td>\n",
       "      <td>294</td>\n",
       "    </tr>\n",
       "  </tbody>\n",
       "</table>\n",
       "</div>"
      ],
      "text/plain": [
       "         Date   Births\n",
       "0  1977-01-01      208\n",
       "1  1977-01-02      241\n",
       "2  1977-01-03      274\n",
       "3  1977-01-04      256\n",
       "4  1977-01-05      294"
      ]
     },
     "execution_count": 616,
     "metadata": {},
     "output_type": "execute_result"
    }
   ],
   "source": [
    "df = pd.read_csv('../data/number-of-daily-births-in-quebec.csv',\n",
    "                 skiprows=1, skipfooter=9,\n",
    "                 engine='python')\n",
    "df.head()"
   ]
  },
  {
   "cell_type": "code",
   "execution_count": 617,
   "metadata": {},
   "outputs": [
    {
     "data": {
      "text/html": [
       "<div>\n",
       "<table border=\"1\" class=\"dataframe\">\n",
       "  <thead>\n",
       "    <tr style=\"text-align: right;\">\n",
       "      <th></th>\n",
       "      <th>Births</th>\n",
       "    </tr>\n",
       "    <tr>\n",
       "      <th>Date</th>\n",
       "      <th></th>\n",
       "    </tr>\n",
       "  </thead>\n",
       "  <tbody>\n",
       "    <tr>\n",
       "      <th>1977-01-01</th>\n",
       "      <td>208</td>\n",
       "    </tr>\n",
       "    <tr>\n",
       "      <th>1977-01-02</th>\n",
       "      <td>241</td>\n",
       "    </tr>\n",
       "    <tr>\n",
       "      <th>1977-01-03</th>\n",
       "      <td>274</td>\n",
       "    </tr>\n",
       "    <tr>\n",
       "      <th>1977-01-04</th>\n",
       "      <td>256</td>\n",
       "    </tr>\n",
       "    <tr>\n",
       "      <th>1977-01-05</th>\n",
       "      <td>294</td>\n",
       "    </tr>\n",
       "  </tbody>\n",
       "</table>\n",
       "</div>"
      ],
      "text/plain": [
       "             Births\n",
       "Date               \n",
       "1977-01-01      208\n",
       "1977-01-02      241\n",
       "1977-01-03      274\n",
       "1977-01-04      256\n",
       "1977-01-05      294"
      ]
     },
     "execution_count": 617,
     "metadata": {},
     "output_type": "execute_result"
    }
   ],
   "source": [
    "df['Date'] = pd.to_datetime(df['Date'])\n",
    "df = df.set_index('Date')\n",
    "df.head()"
   ]
  },
  {
   "cell_type": "code",
   "execution_count": 618,
   "metadata": {},
   "outputs": [
    {
     "data": {
      "text/plain": [
       "<matplotlib.axes._subplots.AxesSubplot at 0x14eeec358>"
      ]
     },
     "execution_count": 618,
     "metadata": {},
     "output_type": "execute_result"
    },
    {
     "data": {
      "image/png": "[encoded data removed]",
      "text/plain": [
       "<matplotlib.figure.Figure at 0x14df8fc50>"
      ]
     },
     "metadata": {},
     "output_type": "display_data"
    }
   ],
   "source": [
    "df.plot()"
   ]
  },
  {
   "cell_type": "markdown",
   "metadata": {},
   "source": [
    "### SETTING PAST AND FUTURE VALUES (TRAINING AND TEST)"
   ]
  },
  {
   "cell_type": "code",
   "execution_count": 619,
   "metadata": {},
   "outputs": [],
   "source": [
    "split_date = pd.Timestamp('01-01-1988')"
   ]
  },
  {
   "cell_type": "code",
   "execution_count": 620,
   "metadata": {},
   "outputs": [],
   "source": [
    "train = df.loc[:split_date]\n",
    "test = df.loc[split_date:]"
   ]
  },
  {
   "cell_type": "code",
   "execution_count": 621,
   "metadata": {},
   "outputs": [
    {
     "data": {
      "text/plain": [
       "<matplotlib.legend.Legend at 0x14eca5a90>"
      ]
     },
     "execution_count": 621,
     "metadata": {},
     "output_type": "execute_result"
    },
    {
     "data": {
      "image/png": "[encoded data removed]",
      "text/plain": [
       "<matplotlib.figure.Figure at 0x14d0c08d0>"
      ]
     },
     "metadata": {},
     "output_type": "display_data"
    }
   ],
   "source": [
    "ax = train.plot()\n",
    "test.plot(ax=ax)\n",
    "plt.legend(['train', 'test'])"
   ]
  },
  {
   "cell_type": "code",
   "execution_count": 622,
   "metadata": {
    "collapsed": true
   },
   "outputs": [],
   "source": [
    "from sklearn.preprocessing import MinMaxScaler\n",
    "\n",
    "sc = MinMaxScaler()\n",
    "\n",
    "train_sc = sc.fit_transform(train)\n",
    "test_sc = sc.transform(test)"
   ]
  },
  {
   "cell_type": "code",
   "execution_count": 623,
   "metadata": {},
   "outputs": [
    {
     "data": {
      "text/plain": [
       "array([[ 0.29777778],\n",
       "       [ 0.44444444],\n",
       "       [ 0.59111111],\n",
       "       [ 0.51111111]])"
      ]
     },
     "execution_count": 623,
     "metadata": {},
     "output_type": "execute_result"
    }
   ],
   "source": [
    "train_sc[:4]\n"
   ]
  },
  {
   "cell_type": "code",
   "execution_count": 624,
   "metadata": {
    "collapsed": true
   },
   "outputs": [],
   "source": [
    "X_train = train_sc[:-1]\n",
    "y_train = train_sc[1:]\n",
    "\n",
    "X_test = test_sc[:-1]\n",
    "y_test = test_sc[1:]"
   ]
  },
  {
   "cell_type": "markdown",
   "metadata": {},
   "source": [
    "## Recurrent predictor"
   ]
  },
  {
   "cell_type": "code",
   "execution_count": 625,
   "metadata": {},
   "outputs": [],
   "source": [
    "from keras.models import Sequential\n",
    "from keras.layers import Dense\n",
    "import keras.backend as K\n",
    "from keras.callbacks import EarlyStopping\n",
    "from keras.layers import LSTM"
   ]
  },
  {
   "cell_type": "code",
   "execution_count": 626,
   "metadata": {},
   "outputs": [
    {
     "name": "stdout",
     "output_type": "stream",
     "text": [
      "_________________________________________________________________\n",
      "Layer (type)                 Output Shape              Param #   \n",
      "=================================================================\n",
      "dense_1 (Dense)              (None, 12)                24        \n",
      "_________________________________________________________________\n",
      "dense_2 (Dense)              (None, 1)                 13        \n",
      "=================================================================\n",
      "Total params: 37\n",
      "Trainable params: 37\n",
      "Non-trainable params: 0\n",
      "_________________________________________________________________\n"
     ]
    }
   ],
   "source": [
    "K.clear_session()\n",
    "#compare with other optimizers\n",
    "model = Sequential()\n",
    "model.add(Dense(12, input_dim=1, activation='relu'))\n",
    "model.add(Dense(1))\n",
    "model.compile(loss='mean_squared_error', optimizer='adam')\n",
    "model.summary()"
   ]
  },
  {
   "cell_type": "code",
   "execution_count": 627,
   "metadata": {
    "collapsed": true
   },
   "outputs": [],
   "source": [
    "early_stop = EarlyStopping(monitor='loss', patience=1, verbose=1)"
   ]
  },
  {
   "cell_type": "code",
   "execution_count": 628,
   "metadata": {},
   "outputs": [
    {
     "data": {
      "text/plain": [
       "(4017, 1)"
      ]
     },
     "execution_count": 628,
     "metadata": {},
     "output_type": "execute_result"
    }
   ],
   "source": [
    "X_train.shape"
   ]
  },
  {
   "cell_type": "code",
   "execution_count": 629,
   "metadata": {},
   "outputs": [
    {
     "data": {
      "text/plain": [
       "(4017, 1, 1)"
      ]
     },
     "execution_count": 629,
     "metadata": {},
     "output_type": "execute_result"
    }
   ],
   "source": [
    "#3D tensor with shape (batch_size, timesteps, input_dim)\n",
    "X_train[:, None].shape"
   ]
  },
  {
   "cell_type": "code",
   "execution_count": 630,
   "metadata": {
    "collapsed": true
   },
   "outputs": [],
   "source": [
    "X_train_t = X_train[:, None]\n",
    "X_test_t = X_test[:, None]"
   ]
  },
  {
   "cell_type": "code",
   "execution_count": 631,
   "metadata": {},
   "outputs": [],
   "source": [
    "K.clear_session()\n",
    "model = Sequential()\n",
    "\n",
    "model.add(LSTM(6, input_shape=(1, 1)))\n",
    "\n",
    "model.add(Dense(1))\n",
    "\n",
    "model.compile(loss='mean_squared_error', optimizer='adagrad')"
   ]
  },
  {
   "cell_type": "code",
   "execution_count": 632,
   "metadata": {},
   "outputs": [
    {
     "name": "stdout",
     "output_type": "stream",
     "text": [
      "Epoch 1/2\n",
      "4017/4017 [==============================] - 45s - loss: 0.0310    \n",
      "Epoch 2/2\n",
      "4017/4017 [==============================] - 46s - loss: 0.0272    \n"
     ]
    },
    {
     "data": {
      "text/plain": [
       "<keras.callbacks.History at 0x1505c2eb8>"
      ]
     },
     "execution_count": 632,
     "metadata": {},
     "output_type": "execute_result"
    }
   ],
   "source": [
    "model.fit(X_train_t, y_train,\n",
    "          epochs=2, batch_size=1, verbose=1,\n",
    "          callbacks=[early_stop])"
   ]
  },
  {
   "cell_type": "code",
   "execution_count": 633,
   "metadata": {},
   "outputs": [
    {
     "data": {
      "text/plain": [
       "[<matplotlib.lines.Line2D at 0x14ef30ac8>]"
      ]
     },
     "execution_count": 633,
     "metadata": {},
     "output_type": "execute_result"
    },
    {
     "data": {
      "image/png": "[encoded data removed]",
      "text/plain": [
       "<matplotlib.figure.Figure at 0x1505f0550>"
      ]
     },
     "metadata": {},
     "output_type": "display_data"
    }
   ],
   "source": [
    "y_pred = model.predict(X_test_t)\n",
    "plt.plot(y_test)\n",
    "plt.plot(y_pred)"
   ]
  },
  {
   "cell_type": "markdown",
   "metadata": {},
   "source": [
    "## Windows"
   ]
  },
  {
   "cell_type": "code",
   "execution_count": 634,
   "metadata": {},
   "outputs": [
    {
     "data": {
      "text/plain": [
       "(4018, 1)"
      ]
     },
     "execution_count": 634,
     "metadata": {},
     "output_type": "execute_result"
    }
   ],
   "source": [
    "train_sc.shape"
   ]
  },
  {
   "cell_type": "code",
   "execution_count": 635,
   "metadata": {},
   "outputs": [
    {
     "data": {
      "text/html": [
       "<div>\n",
       "<table border=\"1\" class=\"dataframe\">\n",
       "  <thead>\n",
       "    <tr style=\"text-align: right;\">\n",
       "      <th></th>\n",
       "      <th>Scaled</th>\n",
       "    </tr>\n",
       "    <tr>\n",
       "      <th>Date</th>\n",
       "      <th></th>\n",
       "    </tr>\n",
       "  </thead>\n",
       "  <tbody>\n",
       "    <tr>\n",
       "      <th>1977-01-01</th>\n",
       "      <td>0.297778</td>\n",
       "    </tr>\n",
       "    <tr>\n",
       "      <th>1977-01-02</th>\n",
       "      <td>0.444444</td>\n",
       "    </tr>\n",
       "    <tr>\n",
       "      <th>1977-01-03</th>\n",
       "      <td>0.591111</td>\n",
       "    </tr>\n",
       "    <tr>\n",
       "      <th>1977-01-04</th>\n",
       "      <td>0.511111</td>\n",
       "    </tr>\n",
       "    <tr>\n",
       "      <th>1977-01-05</th>\n",
       "      <td>0.680000</td>\n",
       "    </tr>\n",
       "  </tbody>\n",
       "</table>\n",
       "</div>"
      ],
      "text/plain": [
       "              Scaled\n",
       "Date                \n",
       "1977-01-01  0.297778\n",
       "1977-01-02  0.444444\n",
       "1977-01-03  0.591111\n",
       "1977-01-04  0.511111\n",
       "1977-01-05  0.680000"
      ]
     },
     "execution_count": 635,
     "metadata": {},
     "output_type": "execute_result"
    }
   ],
   "source": [
    "train_sc_df = pd.DataFrame(train_sc, columns=['Scaled'], index=train.index)\n",
    "test_sc_df = pd.DataFrame(test_sc, columns=['Scaled'], index=test.index)\n",
    "train_sc_df.head()"
   ]
  },
  {
   "cell_type": "code",
   "execution_count": 636,
   "metadata": {
    "collapsed": true
   },
   "outputs": [],
   "source": [
    "for s in range(1, 30):\n",
    "    train_sc_df['shift_{}'.format(s)] = train_sc_df['Scaled'].shift(s)\n",
    "    test_sc_df['shift_{}'.format(s)] = test_sc_df['Scaled'].shift(s)"
   ]
  },
  {
   "cell_type": "code",
   "execution_count": 637,
   "metadata": {},
   "outputs": [
    {
     "data": {
      "text/html": [
       "<div>\n",
       "<table border=\"1\" class=\"dataframe\">\n",
       "  <thead>\n",
       "    <tr style=\"text-align: right;\">\n",
       "      <th></th>\n",
       "      <th>Scaled</th>\n",
       "      <th>shift_1</th>\n",
       "      <th>shift_2</th>\n",
       "      <th>shift_3</th>\n",
       "      <th>shift_4</th>\n",
       "      <th>shift_5</th>\n",
       "      <th>shift_6</th>\n",
       "      <th>shift_7</th>\n",
       "      <th>shift_8</th>\n",
       "      <th>shift_9</th>\n",
       "      <th>...</th>\n",
       "      <th>shift_20</th>\n",
       "      <th>shift_21</th>\n",
       "      <th>shift_22</th>\n",
       "      <th>shift_23</th>\n",
       "      <th>shift_24</th>\n",
       "      <th>shift_25</th>\n",
       "      <th>shift_26</th>\n",
       "      <th>shift_27</th>\n",
       "      <th>shift_28</th>\n",
       "      <th>shift_29</th>\n",
       "    </tr>\n",
       "    <tr>\n",
       "      <th>Date</th>\n",
       "      <th></th>\n",
       "      <th></th>\n",
       "      <th></th>\n",
       "      <th></th>\n",
       "      <th></th>\n",
       "      <th></th>\n",
       "      <th></th>\n",
       "      <th></th>\n",
       "      <th></th>\n",
       "      <th></th>\n",
       "      <th></th>\n",
       "      <th></th>\n",
       "      <th></th>\n",
       "      <th></th>\n",
       "      <th></th>\n",
       "      <th></th>\n",
       "      <th></th>\n",
       "      <th></th>\n",
       "      <th></th>\n",
       "      <th></th>\n",
       "      <th></th>\n",
       "    </tr>\n",
       "  </thead>\n",
       "  <tbody>\n",
       "    <tr>\n",
       "      <th>1977-01-01</th>\n",
       "      <td>0.297778</td>\n",
       "      <td>NaN</td>\n",
       "      <td>NaN</td>\n",
       "      <td>NaN</td>\n",
       "      <td>NaN</td>\n",
       "      <td>NaN</td>\n",
       "      <td>NaN</td>\n",
       "      <td>NaN</td>\n",
       "      <td>NaN</td>\n",
       "      <td>NaN</td>\n",
       "      <td>...</td>\n",
       "      <td>NaN</td>\n",
       "      <td>NaN</td>\n",
       "      <td>NaN</td>\n",
       "      <td>NaN</td>\n",
       "      <td>NaN</td>\n",
       "      <td>NaN</td>\n",
       "      <td>NaN</td>\n",
       "      <td>NaN</td>\n",
       "      <td>NaN</td>\n",
       "      <td>NaN</td>\n",
       "    </tr>\n",
       "    <tr>\n",
       "      <th>1977-01-02</th>\n",
       "      <td>0.444444</td>\n",
       "      <td>0.297778</td>\n",
       "      <td>NaN</td>\n",
       "      <td>NaN</td>\n",
       "      <td>NaN</td>\n",
       "      <td>NaN</td>\n",
       "      <td>NaN</td>\n",
       "      <td>NaN</td>\n",
       "      <td>NaN</td>\n",
       "      <td>NaN</td>\n",
       "      <td>...</td>\n",
       "      <td>NaN</td>\n",
       "      <td>NaN</td>\n",
       "      <td>NaN</td>\n",
       "      <td>NaN</td>\n",
       "      <td>NaN</td>\n",
       "      <td>NaN</td>\n",
       "      <td>NaN</td>\n",
       "      <td>NaN</td>\n",
       "      <td>NaN</td>\n",
       "      <td>NaN</td>\n",
       "    </tr>\n",
       "    <tr>\n",
       "      <th>1977-01-03</th>\n",
       "      <td>0.591111</td>\n",
       "      <td>0.444444</td>\n",
       "      <td>0.297778</td>\n",
       "      <td>NaN</td>\n",
       "      <td>NaN</td>\n",
       "      <td>NaN</td>\n",
       "      <td>NaN</td>\n",
       "      <td>NaN</td>\n",
       "      <td>NaN</td>\n",
       "      <td>NaN</td>\n",
       "      <td>...</td>\n",
       "      <td>NaN</td>\n",
       "      <td>NaN</td>\n",
       "      <td>NaN</td>\n",
       "      <td>NaN</td>\n",
       "      <td>NaN</td>\n",
       "      <td>NaN</td>\n",
       "      <td>NaN</td>\n",
       "      <td>NaN</td>\n",
       "      <td>NaN</td>\n",
       "      <td>NaN</td>\n",
       "    </tr>\n",
       "    <tr>\n",
       "      <th>1977-01-04</th>\n",
       "      <td>0.511111</td>\n",
       "      <td>0.591111</td>\n",
       "      <td>0.444444</td>\n",
       "      <td>0.297778</td>\n",
       "      <td>NaN</td>\n",
       "      <td>NaN</td>\n",
       "      <td>NaN</td>\n",
       "      <td>NaN</td>\n",
       "      <td>NaN</td>\n",
       "      <td>NaN</td>\n",
       "      <td>...</td>\n",
       "      <td>NaN</td>\n",
       "      <td>NaN</td>\n",
       "      <td>NaN</td>\n",
       "      <td>NaN</td>\n",
       "      <td>NaN</td>\n",
       "      <td>NaN</td>\n",
       "      <td>NaN</td>\n",
       "      <td>NaN</td>\n",
       "      <td>NaN</td>\n",
       "      <td>NaN</td>\n",
       "    </tr>\n",
       "    <tr>\n",
       "      <th>1977-01-05</th>\n",
       "      <td>0.680000</td>\n",
       "      <td>0.511111</td>\n",
       "      <td>0.591111</td>\n",
       "      <td>0.444444</td>\n",
       "      <td>0.297778</td>\n",
       "      <td>NaN</td>\n",
       "      <td>NaN</td>\n",
       "      <td>NaN</td>\n",
       "      <td>NaN</td>\n",
       "      <td>NaN</td>\n",
       "      <td>...</td>\n",
       "      <td>NaN</td>\n",
       "      <td>NaN</td>\n",
       "      <td>NaN</td>\n",
       "      <td>NaN</td>\n",
       "      <td>NaN</td>\n",
       "      <td>NaN</td>\n",
       "      <td>NaN</td>\n",
       "      <td>NaN</td>\n",
       "      <td>NaN</td>\n",
       "      <td>NaN</td>\n",
       "    </tr>\n",
       "    <tr>\n",
       "      <th>1977-01-06</th>\n",
       "      <td>0.622222</td>\n",
       "      <td>0.680000</td>\n",
       "      <td>0.511111</td>\n",
       "      <td>0.591111</td>\n",
       "      <td>0.444444</td>\n",
       "      <td>0.297778</td>\n",
       "      <td>NaN</td>\n",
       "      <td>NaN</td>\n",
       "      <td>NaN</td>\n",
       "      <td>NaN</td>\n",
       "      <td>...</td>\n",
       "      <td>NaN</td>\n",
       "      <td>NaN</td>\n",
       "      <td>NaN</td>\n",
       "      <td>NaN</td>\n",
       "      <td>NaN</td>\n",
       "      <td>NaN</td>\n",
       "      <td>NaN</td>\n",
       "      <td>NaN</td>\n",
       "      <td>NaN</td>\n",
       "      <td>NaN</td>\n",
       "    </tr>\n",
       "    <tr>\n",
       "      <th>1977-01-07</th>\n",
       "      <td>0.488889</td>\n",
       "      <td>0.622222</td>\n",
       "      <td>0.680000</td>\n",
       "      <td>0.511111</td>\n",
       "      <td>0.591111</td>\n",
       "      <td>0.444444</td>\n",
       "      <td>0.297778</td>\n",
       "      <td>NaN</td>\n",
       "      <td>NaN</td>\n",
       "      <td>NaN</td>\n",
       "      <td>...</td>\n",
       "      <td>NaN</td>\n",
       "      <td>NaN</td>\n",
       "      <td>NaN</td>\n",
       "      <td>NaN</td>\n",
       "      <td>NaN</td>\n",
       "      <td>NaN</td>\n",
       "      <td>NaN</td>\n",
       "      <td>NaN</td>\n",
       "      <td>NaN</td>\n",
       "      <td>NaN</td>\n",
       "    </tr>\n",
       "  </tbody>\n",
       "</table>\n",
       "<p>7 rows × 30 columns</p>\n",
       "</div>"
      ],
      "text/plain": [
       "              Scaled   shift_1   shift_2   shift_3   shift_4   shift_5  \\\n",
       "Date                                                                     \n",
       "1977-01-01  0.297778       NaN       NaN       NaN       NaN       NaN   \n",
       "1977-01-02  0.444444  0.297778       NaN       NaN       NaN       NaN   \n",
       "1977-01-03  0.591111  0.444444  0.297778       NaN       NaN       NaN   \n",
       "1977-01-04  0.511111  0.591111  0.444444  0.297778       NaN       NaN   \n",
       "1977-01-05  0.680000  0.511111  0.591111  0.444444  0.297778       NaN   \n",
       "1977-01-06  0.622222  0.680000  0.511111  0.591111  0.444444  0.297778   \n",
       "1977-01-07  0.488889  0.622222  0.680000  0.511111  0.591111  0.444444   \n",
       "\n",
       "             shift_6  shift_7  shift_8  shift_9    ...     shift_20  shift_21  \\\n",
       "Date                                               ...                          \n",
       "1977-01-01       NaN      NaN      NaN      NaN    ...          NaN       NaN   \n",
       "1977-01-02       NaN      NaN      NaN      NaN    ...          NaN       NaN   \n",
       "1977-01-03       NaN      NaN      NaN      NaN    ...          NaN       NaN   \n",
       "1977-01-04       NaN      NaN      NaN      NaN    ...          NaN       NaN   \n",
       "1977-01-05       NaN      NaN      NaN      NaN    ...          NaN       NaN   \n",
       "1977-01-06       NaN      NaN      NaN      NaN    ...          NaN       NaN   \n",
       "1977-01-07  0.297778      NaN      NaN      NaN    ...          NaN       NaN   \n",
       "\n",
       "            shift_22  shift_23  shift_24  shift_25  shift_26  shift_27  \\\n",
       "Date                                                                     \n",
       "1977-01-01       NaN       NaN       NaN       NaN       NaN       NaN   \n",
       "1977-01-02       NaN       NaN       NaN       NaN       NaN       NaN   \n",
       "1977-01-03       NaN       NaN       NaN       NaN       NaN       NaN   \n",
       "1977-01-04       NaN       NaN       NaN       NaN       NaN       NaN   \n",
       "1977-01-05       NaN       NaN       NaN       NaN       NaN       NaN   \n",
       "1977-01-06       NaN       NaN       NaN       NaN       NaN       NaN   \n",
       "1977-01-07       NaN       NaN       NaN       NaN       NaN       NaN   \n",
       "\n",
       "            shift_28  shift_29  \n",
       "Date                            \n",
       "1977-01-01       NaN       NaN  \n",
       "1977-01-02       NaN       NaN  \n",
       "1977-01-03       NaN       NaN  \n",
       "1977-01-04       NaN       NaN  \n",
       "1977-01-05       NaN       NaN  \n",
       "1977-01-06       NaN       NaN  \n",
       "1977-01-07       NaN       NaN  \n",
       "\n",
       "[7 rows x 30 columns]"
      ]
     },
     "execution_count": 637,
     "metadata": {},
     "output_type": "execute_result"
    }
   ],
   "source": [
    "train_sc_df.head(7)"
   ]
  },
  {
   "cell_type": "code",
   "execution_count": 638,
   "metadata": {
    "collapsed": true
   },
   "outputs": [],
   "source": [
    "X_train = train_sc_df.dropna().drop('Scaled', axis=1)\n",
    "y_train = train_sc_df.dropna()[['Scaled']]\n",
    "\n",
    "X_test = test_sc_df.dropna().drop('Scaled', axis=1)\n",
    "y_test = test_sc_df.dropna()[['Scaled']]"
   ]
  },
  {
   "cell_type": "code",
   "execution_count": 639,
   "metadata": {},
   "outputs": [
    {
     "data": {
      "text/html": [
       "<div>\n",
       "<table border=\"1\" class=\"dataframe\">\n",
       "  <thead>\n",
       "    <tr style=\"text-align: right;\">\n",
       "      <th></th>\n",
       "      <th>shift_1</th>\n",
       "      <th>shift_2</th>\n",
       "      <th>shift_3</th>\n",
       "      <th>shift_4</th>\n",
       "      <th>shift_5</th>\n",
       "      <th>shift_6</th>\n",
       "      <th>shift_7</th>\n",
       "      <th>shift_8</th>\n",
       "      <th>shift_9</th>\n",
       "      <th>shift_10</th>\n",
       "      <th>...</th>\n",
       "      <th>shift_20</th>\n",
       "      <th>shift_21</th>\n",
       "      <th>shift_22</th>\n",
       "      <th>shift_23</th>\n",
       "      <th>shift_24</th>\n",
       "      <th>shift_25</th>\n",
       "      <th>shift_26</th>\n",
       "      <th>shift_27</th>\n",
       "      <th>shift_28</th>\n",
       "      <th>shift_29</th>\n",
       "    </tr>\n",
       "    <tr>\n",
       "      <th>Date</th>\n",
       "      <th></th>\n",
       "      <th></th>\n",
       "      <th></th>\n",
       "      <th></th>\n",
       "      <th></th>\n",
       "      <th></th>\n",
       "      <th></th>\n",
       "      <th></th>\n",
       "      <th></th>\n",
       "      <th></th>\n",
       "      <th></th>\n",
       "      <th></th>\n",
       "      <th></th>\n",
       "      <th></th>\n",
       "      <th></th>\n",
       "      <th></th>\n",
       "      <th></th>\n",
       "      <th></th>\n",
       "      <th></th>\n",
       "      <th></th>\n",
       "      <th></th>\n",
       "    </tr>\n",
       "  </thead>\n",
       "  <tbody>\n",
       "    <tr>\n",
       "      <th>1977-01-30</th>\n",
       "      <td>0.351111</td>\n",
       "      <td>0.546667</td>\n",
       "      <td>0.573333</td>\n",
       "      <td>0.755556</td>\n",
       "      <td>0.591111</td>\n",
       "      <td>0.635556</td>\n",
       "      <td>0.204444</td>\n",
       "      <td>0.453333</td>\n",
       "      <td>0.680000</td>\n",
       "      <td>0.760000</td>\n",
       "      <td>...</td>\n",
       "      <td>0.480000</td>\n",
       "      <td>0.440000</td>\n",
       "      <td>0.395556</td>\n",
       "      <td>0.488889</td>\n",
       "      <td>0.622222</td>\n",
       "      <td>0.680000</td>\n",
       "      <td>0.511111</td>\n",
       "      <td>0.591111</td>\n",
       "      <td>0.444444</td>\n",
       "      <td>0.297778</td>\n",
       "    </tr>\n",
       "    <tr>\n",
       "      <th>1977-01-31</th>\n",
       "      <td>0.346667</td>\n",
       "      <td>0.351111</td>\n",
       "      <td>0.546667</td>\n",
       "      <td>0.573333</td>\n",
       "      <td>0.755556</td>\n",
       "      <td>0.591111</td>\n",
       "      <td>0.635556</td>\n",
       "      <td>0.204444</td>\n",
       "      <td>0.453333</td>\n",
       "      <td>0.680000</td>\n",
       "      <td>...</td>\n",
       "      <td>0.582222</td>\n",
       "      <td>0.480000</td>\n",
       "      <td>0.440000</td>\n",
       "      <td>0.395556</td>\n",
       "      <td>0.488889</td>\n",
       "      <td>0.622222</td>\n",
       "      <td>0.680000</td>\n",
       "      <td>0.511111</td>\n",
       "      <td>0.591111</td>\n",
       "      <td>0.444444</td>\n",
       "    </tr>\n",
       "    <tr>\n",
       "      <th>1977-02-01</th>\n",
       "      <td>0.542222</td>\n",
       "      <td>0.346667</td>\n",
       "      <td>0.351111</td>\n",
       "      <td>0.546667</td>\n",
       "      <td>0.573333</td>\n",
       "      <td>0.755556</td>\n",
       "      <td>0.591111</td>\n",
       "      <td>0.635556</td>\n",
       "      <td>0.204444</td>\n",
       "      <td>0.453333</td>\n",
       "      <td>...</td>\n",
       "      <td>0.573333</td>\n",
       "      <td>0.582222</td>\n",
       "      <td>0.480000</td>\n",
       "      <td>0.440000</td>\n",
       "      <td>0.395556</td>\n",
       "      <td>0.488889</td>\n",
       "      <td>0.622222</td>\n",
       "      <td>0.680000</td>\n",
       "      <td>0.511111</td>\n",
       "      <td>0.591111</td>\n",
       "    </tr>\n",
       "    <tr>\n",
       "      <th>1977-02-02</th>\n",
       "      <td>0.577778</td>\n",
       "      <td>0.542222</td>\n",
       "      <td>0.346667</td>\n",
       "      <td>0.351111</td>\n",
       "      <td>0.546667</td>\n",
       "      <td>0.573333</td>\n",
       "      <td>0.755556</td>\n",
       "      <td>0.591111</td>\n",
       "      <td>0.635556</td>\n",
       "      <td>0.204444</td>\n",
       "      <td>...</td>\n",
       "      <td>0.622222</td>\n",
       "      <td>0.573333</td>\n",
       "      <td>0.582222</td>\n",
       "      <td>0.480000</td>\n",
       "      <td>0.440000</td>\n",
       "      <td>0.395556</td>\n",
       "      <td>0.488889</td>\n",
       "      <td>0.622222</td>\n",
       "      <td>0.680000</td>\n",
       "      <td>0.511111</td>\n",
       "    </tr>\n",
       "    <tr>\n",
       "      <th>1977-02-03</th>\n",
       "      <td>0.728889</td>\n",
       "      <td>0.577778</td>\n",
       "      <td>0.542222</td>\n",
       "      <td>0.346667</td>\n",
       "      <td>0.351111</td>\n",
       "      <td>0.546667</td>\n",
       "      <td>0.573333</td>\n",
       "      <td>0.755556</td>\n",
       "      <td>0.591111</td>\n",
       "      <td>0.635556</td>\n",
       "      <td>...</td>\n",
       "      <td>0.684444</td>\n",
       "      <td>0.622222</td>\n",
       "      <td>0.573333</td>\n",
       "      <td>0.582222</td>\n",
       "      <td>0.480000</td>\n",
       "      <td>0.440000</td>\n",
       "      <td>0.395556</td>\n",
       "      <td>0.488889</td>\n",
       "      <td>0.622222</td>\n",
       "      <td>0.680000</td>\n",
       "    </tr>\n",
       "  </tbody>\n",
       "</table>\n",
       "<p>5 rows × 29 columns</p>\n",
       "</div>"
      ],
      "text/plain": [
       "             shift_1   shift_2   shift_3   shift_4   shift_5   shift_6  \\\n",
       "Date                                                                     \n",
       "1977-01-30  0.351111  0.546667  0.573333  0.755556  0.591111  0.635556   \n",
       "1977-01-31  0.346667  0.351111  0.546667  0.573333  0.755556  0.591111   \n",
       "1977-02-01  0.542222  0.346667  0.351111  0.546667  0.573333  0.755556   \n",
       "1977-02-02  0.577778  0.542222  0.346667  0.351111  0.546667  0.573333   \n",
       "1977-02-03  0.728889  0.577778  0.542222  0.346667  0.351111  0.546667   \n",
       "\n",
       "             shift_7   shift_8   shift_9  shift_10    ...     shift_20  \\\n",
       "Date                                                  ...                \n",
       "1977-01-30  0.204444  0.453333  0.680000  0.760000    ...     0.480000   \n",
       "1977-01-31  0.635556  0.204444  0.453333  0.680000    ...     0.582222   \n",
       "1977-02-01  0.591111  0.635556  0.204444  0.453333    ...     0.573333   \n",
       "1977-02-02  0.755556  0.591111  0.635556  0.204444    ...     0.622222   \n",
       "1977-02-03  0.573333  0.755556  0.591111  0.635556    ...     0.684444   \n",
       "\n",
       "            shift_21  shift_22  shift_23  shift_24  shift_25  shift_26  \\\n",
       "Date                                                                     \n",
       "1977-01-30  0.440000  0.395556  0.488889  0.622222  0.680000  0.511111   \n",
       "1977-01-31  0.480000  0.440000  0.395556  0.488889  0.622222  0.680000   \n",
       "1977-02-01  0.582222  0.480000  0.440000  0.395556  0.488889  0.622222   \n",
       "1977-02-02  0.573333  0.582222  0.480000  0.440000  0.395556  0.488889   \n",
       "1977-02-03  0.622222  0.573333  0.582222  0.480000  0.440000  0.395556   \n",
       "\n",
       "            shift_27  shift_28  shift_29  \n",
       "Date                                      \n",
       "1977-01-30  0.591111  0.444444  0.297778  \n",
       "1977-01-31  0.511111  0.591111  0.444444  \n",
       "1977-02-01  0.680000  0.511111  0.591111  \n",
       "1977-02-02  0.622222  0.680000  0.511111  \n",
       "1977-02-03  0.488889  0.622222  0.680000  \n",
       "\n",
       "[5 rows x 29 columns]"
      ]
     },
     "execution_count": 639,
     "metadata": {},
     "output_type": "execute_result"
    }
   ],
   "source": [
    "X_train.head()"
   ]
  },
  {
   "cell_type": "code",
   "execution_count": 640,
   "metadata": {},
   "outputs": [
    {
     "data": {
      "text/plain": [
       "(3989, 29)"
      ]
     },
     "execution_count": 640,
     "metadata": {},
     "output_type": "execute_result"
    }
   ],
   "source": [
    "X_train.shape"
   ]
  },
  {
   "cell_type": "code",
   "execution_count": 641,
   "metadata": {},
   "outputs": [],
   "source": [
    "X_train = X_train.values\n",
    "X_test= X_test.values\n",
    "\n",
    "y_train = y_train.values\n",
    "y_test = y_test.values"
   ]
  },
  {
   "cell_type": "markdown",
   "metadata": {},
   "source": [
    "## Experiment With ADAM"
   ]
  },
  {
   "cell_type": "code",
   "execution_count": 642,
   "metadata": {},
   "outputs": [],
   "source": [
    "X_train_t = X_train.reshape(X_train.shape[0], 1, 29)\n",
    "X_test_t = X_test.reshape(X_test.shape[0], 1, 29)"
   ]
  },
  {
   "cell_type": "code",
   "execution_count": 643,
   "metadata": {},
   "outputs": [
    {
     "data": {
      "text/plain": [
       "(3989, 1, 29)"
      ]
     },
     "execution_count": 643,
     "metadata": {},
     "output_type": "execute_result"
    }
   ],
   "source": [
    "X_train_t.shape"
   ]
  },
  {
   "cell_type": "code",
   "execution_count": 644,
   "metadata": {
    "collapsed": true
   },
   "outputs": [],
   "source": [
    "K.clear_session()\n",
    "model = Sequential()\n",
    "\n",
    "model.add(LSTM(10, input_shape=(1, 29)))\n",
    "\n",
    "model.add(Dense(1))\n",
    "\n",
    "model.compile(loss='mean_squared_error', optimizer='adam')"
   ]
  },
  {
   "cell_type": "code",
   "execution_count": 645,
   "metadata": {},
   "outputs": [
    {
     "name": "stdout",
     "output_type": "stream",
     "text": [
      "_________________________________________________________________\n",
      "Layer (type)                 Output Shape              Param #   \n",
      "=================================================================\n",
      "lstm_1 (LSTM)                (None, 10)                1600      \n",
      "_________________________________________________________________\n",
      "dense_1 (Dense)              (None, 1)                 11        \n",
      "=================================================================\n",
      "Total params: 1,611\n",
      "Trainable params: 1,611\n",
      "Non-trainable params: 0\n",
      "_________________________________________________________________\n"
     ]
    }
   ],
   "source": [
    "model.summary()"
   ]
  },
  {
   "cell_type": "code",
   "execution_count": 646,
   "metadata": {},
   "outputs": [
    {
     "name": "stdout",
     "output_type": "stream",
     "text": [
      "Epoch 1/15\n",
      "3989/3989 [==============================] - 46s - loss: 0.0135    \n",
      "Epoch 2/15\n",
      "3989/3989 [==============================] - 43s - loss: 0.0097    \n",
      "Epoch 3/15\n",
      "3989/3989 [==============================] - 44s - loss: 0.0094    \n",
      "Epoch 4/15\n",
      "3989/3989 [==============================] - 45s - loss: 0.0092    \n",
      "Epoch 5/15\n",
      "3989/3989 [==============================] - 47s - loss: 0.0091    \n",
      "Epoch 6/15\n",
      "3989/3989 [==============================] - 46s - loss: 0.0091    \n",
      "Epoch 7/15\n",
      "3989/3989 [==============================] - 44s - loss: 0.0090    \n",
      "Epoch 8/15\n",
      "3989/3989 [==============================] - 43s - loss: 0.0089    \n",
      "Epoch 9/15\n",
      "3989/3989 [==============================] - 48s - loss: 0.0088    \n",
      "Epoch 10/15\n",
      "3989/3989 [==============================] - 46s - loss: 0.0087    \n",
      "Epoch 11/15\n",
      "3989/3989 [==============================] - 46s - loss: 0.0087    \n",
      "Epoch 12/15\n",
      "3989/3989 [==============================] - 44s - loss: 0.0087    \n",
      "Epoch 13/15\n",
      "3989/3989 [==============================] - 44s - loss: 0.0086    \n",
      "Epoch 14/15\n",
      "3989/3989 [==============================] - 47s - loss: 0.0086    \n",
      "Epoch 15/15\n",
      "3989/3989 [==============================] - 45s - loss: 0.0086    \n"
     ]
    },
    {
     "data": {
      "text/plain": [
       "<keras.callbacks.History at 0x15120f550>"
      ]
     },
     "execution_count": 646,
     "metadata": {},
     "output_type": "execute_result"
    }
   ],
   "source": [
    "model.fit(X_train_t, y_train, epochs=15,\n",
    "          batch_size=1, verbose=1, callbacks=[early_stop])"
   ]
  },
  {
   "cell_type": "code",
   "execution_count": 647,
   "metadata": {},
   "outputs": [
    {
     "data": {
      "text/plain": [
       "[<matplotlib.lines.Line2D at 0x1506c5390>]"
      ]
     },
     "execution_count": 647,
     "metadata": {},
     "output_type": "execute_result"
    },
    {
     "data": {
      "image/png": "[encoded data removed]",
      "text/plain": [
       "<matplotlib.figure.Figure at 0x1511e9eb8>"
      ]
     },
     "metadata": {},
     "output_type": "display_data"
    }
   ],
   "source": [
    "y_pred = model.predict(X_test_t)\n",
    "plt.plot(y_test)\n",
    "plt.plot(y_pred)"
   ]
  },
  {
   "cell_type": "markdown",
   "metadata": {},
   "source": [
    "## Experiment With AdaGrad"
   ]
  },
  {
   "cell_type": "code",
   "execution_count": 648,
   "metadata": {},
   "outputs": [
    {
     "data": {
      "text/plain": [
       "(3989, 1, 29)"
      ]
     },
     "execution_count": 648,
     "metadata": {},
     "output_type": "execute_result"
    }
   ],
   "source": [
    "X_train_t = X_train.reshape(X_train.shape[0], 1, 29)\n",
    "X_test_t = X_test.reshape(X_test.shape[0], 1, 29)\n",
    "X_train_t.shape"
   ]
  },
  {
   "cell_type": "code",
   "execution_count": 649,
   "metadata": {
    "collapsed": true
   },
   "outputs": [],
   "source": [
    "K.clear_session()\n",
    "model = Sequential()\n",
    "\n",
    "model.add(LSTM(10, input_shape=(1, 29)))\n",
    "\n",
    "model.add(Dense(1))\n",
    "\n",
    "model.compile(loss='mean_squared_error', optimizer='adagrad')"
   ]
  },
  {
   "cell_type": "code",
   "execution_count": 650,
   "metadata": {},
   "outputs": [
    {
     "name": "stdout",
     "output_type": "stream",
     "text": [
      "_________________________________________________________________\n",
      "Layer (type)                 Output Shape              Param #   \n",
      "=================================================================\n",
      "lstm_1 (LSTM)                (None, 10)                1600      \n",
      "_________________________________________________________________\n",
      "dense_1 (Dense)              (None, 1)                 11        \n",
      "=================================================================\n",
      "Total params: 1,611\n",
      "Trainable params: 1,611\n",
      "Non-trainable params: 0\n",
      "_________________________________________________________________\n"
     ]
    }
   ],
   "source": [
    "model.summary()"
   ]
  },
  {
   "cell_type": "code",
   "execution_count": 651,
   "metadata": {},
   "outputs": [
    {
     "name": "stdout",
     "output_type": "stream",
     "text": [
      "Epoch 1/15\n",
      "3989/3989 [==============================] - 46s - loss: 0.0106    \n",
      "Epoch 2/15\n",
      "3989/3989 [==============================] - 43s - loss: 0.0096    \n",
      "Epoch 3/15\n",
      "3989/3989 [==============================] - 42s - loss: 0.0094    \n",
      "Epoch 4/15\n",
      "3989/3989 [==============================] - ETA: 0s - loss: 0.009 - 43s - loss: 0.0093    \n",
      "Epoch 5/15\n",
      "3989/3989 [==============================] - 44s - loss: 0.0092    \n",
      "Epoch 6/15\n",
      "3989/3989 [==============================] - 42s - loss: 0.0091    \n",
      "Epoch 7/15\n",
      "3989/3989 [==============================] - 42s - loss: 0.0090    \n",
      "Epoch 8/15\n",
      "3989/3989 [==============================] - 44s - loss: 0.0090    \n",
      "Epoch 9/15\n",
      "3989/3989 [==============================] - 44s - loss: 0.0090    \n",
      "Epoch 10/15\n",
      "3989/3989 [==============================] - 42s - loss: 0.0090    \n",
      "Epoch 11/15\n",
      "3989/3989 [==============================] - 44s - loss: 0.0089    \n",
      "Epoch 12/15\n",
      "3989/3989 [==============================] - 43s - loss: 0.0089    \n",
      "Epoch 13/15\n",
      "3989/3989 [==============================] - 43s - loss: 0.0089    \n",
      "Epoch 14/15\n",
      "3989/3989 [==============================] - 42s - loss: 0.0089    \n",
      "Epoch 15/15\n",
      "3989/3989 [==============================] - 43s - loss: 0.0089    \n"
     ]
    },
    {
     "data": {
      "text/plain": [
       "<keras.callbacks.History at 0x152046ba8>"
      ]
     },
     "execution_count": 651,
     "metadata": {},
     "output_type": "execute_result"
    }
   ],
   "source": [
    "model.fit(X_train_t, y_train, epochs=15,\n",
    "          batch_size=1, verbose=1, callbacks=[early_stop])"
   ]
  },
  {
   "cell_type": "code",
   "execution_count": 652,
   "metadata": {},
   "outputs": [
    {
     "data": {
      "text/plain": [
       "[<matplotlib.lines.Line2D at 0x1520ba5c0>]"
      ]
     },
     "execution_count": 652,
     "metadata": {},
     "output_type": "execute_result"
    },
    {
     "data": {
      "image/png": "[encoded data removed]",
      "text/plain": [
       "<matplotlib.figure.Figure at 0x1520ba358>"
      ]
     },
     "metadata": {},
     "output_type": "display_data"
    }
   ],
   "source": [
    "y_pred = model.predict(X_test_t)\n",
    "plt.plot(y_test)\n",
    "plt.plot(y_pred)"
   ]
  },
  {
   "cell_type": "markdown",
   "metadata": {},
   "source": [
    "## Experiment with SGD"
   ]
  },
  {
   "cell_type": "code",
   "execution_count": 653,
   "metadata": {},
   "outputs": [
    {
     "data": {
      "text/plain": [
       "(3989, 1, 29)"
      ]
     },
     "execution_count": 653,
     "metadata": {},
     "output_type": "execute_result"
    }
   ],
   "source": [
    "X_train_t = X_train.reshape(X_train.shape[0], 1, 29)\n",
    "X_test_t = X_test.reshape(X_test.shape[0], 1, 29)\n",
    "X_train_t.shape"
   ]
  },
  {
   "cell_type": "code",
   "execution_count": 654,
   "metadata": {
    "collapsed": true
   },
   "outputs": [],
   "source": [
    "K.clear_session()\n",
    "model = Sequential()\n",
    "\n",
    "model.add(LSTM(10, input_shape=(1, 29)))\n",
    "\n",
    "model.add(Dense(1))\n",
    "\n",
    "model.compile(loss='mean_squared_error', optimizer='sgd')"
   ]
  },
  {
   "cell_type": "code",
   "execution_count": 655,
   "metadata": {},
   "outputs": [
    {
     "name": "stdout",
     "output_type": "stream",
     "text": [
      "_________________________________________________________________\n",
      "Layer (type)                 Output Shape              Param #   \n",
      "=================================================================\n",
      "lstm_1 (LSTM)                (None, 10)                1600      \n",
      "_________________________________________________________________\n",
      "dense_1 (Dense)              (None, 1)                 11        \n",
      "=================================================================\n",
      "Total params: 1,611\n",
      "Trainable params: 1,611\n",
      "Non-trainable params: 0\n",
      "_________________________________________________________________\n"
     ]
    }
   ],
   "source": [
    "model.summary()"
   ]
  },
  {
   "cell_type": "code",
   "execution_count": 656,
   "metadata": {},
   "outputs": [
    {
     "name": "stdout",
     "output_type": "stream",
     "text": [
      "Epoch 1/15\n",
      "3989/3989 [==============================] - 42s - loss: 0.0189    \n",
      "Epoch 2/15\n",
      "3989/3989 [==============================] - 41s - loss: 0.0110    \n",
      "Epoch 3/15\n",
      "3989/3989 [==============================] - 40s - loss: 0.0104    \n",
      "Epoch 4/15\n",
      "3989/3989 [==============================] - 40s - loss: 0.0101    \n",
      "Epoch 5/15\n",
      "3989/3989 [==============================] - 43s - loss: 0.0099    \n",
      "Epoch 6/15\n",
      "3989/3989 [==============================] - 49s - loss: 0.0097    \n",
      "Epoch 7/15\n",
      "3989/3989 [==============================] - 41s - loss: 0.0096    \n",
      "Epoch 8/15\n",
      "3989/3989 [==============================] - 42s - loss: 0.0095    \n",
      "Epoch 9/15\n",
      "3989/3989 [==============================] - 44s - loss: 0.0094    \n",
      "Epoch 10/15\n",
      "3989/3989 [==============================] - 41s - loss: 0.0094    \n",
      "Epoch 11/15\n",
      "3989/3989 [==============================] - 45s - loss: 0.0093    \n",
      "Epoch 12/15\n",
      "3989/3989 [==============================] - 41s - loss: 0.0092    \n",
      "Epoch 13/15\n",
      "3989/3989 [==============================] - 41s - loss: 0.0092    \n",
      "Epoch 14/15\n",
      "3989/3989 [==============================] - 42s - loss: 0.0092    \n",
      "Epoch 15/15\n",
      "3989/3989 [==============================] - 41s - loss: 0.0091    \n"
     ]
    },
    {
     "data": {
      "text/plain": [
       "<keras.callbacks.History at 0x152d4d860>"
      ]
     },
     "execution_count": 656,
     "metadata": {},
     "output_type": "execute_result"
    }
   ],
   "source": [
    "model.fit(X_train_t, y_train, epochs=15,\n",
    "          batch_size=1, verbose=1, callbacks=[early_stop])"
   ]
  },
  {
   "cell_type": "code",
   "execution_count": 657,
   "metadata": {},
   "outputs": [
    {
     "data": {
      "text/plain": [
       "[<matplotlib.lines.Line2D at 0x14ec9a4a8>]"
      ]
     },
     "execution_count": 657,
     "metadata": {},
     "output_type": "execute_result"
    },
    {
     "data": {
      "image/png": "[encoded data removed]",
      "text/plain": [
       "<matplotlib.figure.Figure at 0x152d65278>"
      ]
     },
     "metadata": {},
     "output_type": "display_data"
    }
   ],
   "source": [
    "y_pred = model.predict(X_test_t)\n",
    "plt.plot(y_test)\n",
    "plt.plot(y_pred)"
   ]
  },
  {
   "cell_type": "code",
   "execution_count": null,
   "metadata": {
    "collapsed": true
   },
   "outputs": [],
   "source": []
  }
 ],
 "metadata": {
  "kernelspec": {
   "display_name": "Python 3",
   "language": "python",
   "name": "python3"
  },
  "language_info": {
   "codemirror_mode": {
    "name": "ipython",
    "version": 3
   },
   "file_extension": ".py",
   "mimetype": "text/x-python",
   "name": "python",
   "nbconvert_exporter": "python",
   "pygments_lexer": "ipython3",
   "version": "3.5.4"
  }
 },
 "nbformat": 4,
 "nbformat_minor": 2
}
