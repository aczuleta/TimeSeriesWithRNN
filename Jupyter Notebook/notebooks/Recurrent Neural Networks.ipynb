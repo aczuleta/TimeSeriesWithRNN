{
 "cells": [
  {
   "cell_type": "markdown",
   "metadata": {},
   "source": [
    "# Recurrent Neural Networks"
   ]
  },
  {
   "cell_type": "code",
   "execution_count": 1400,
   "metadata": {
    "collapsed": true
   },
   "outputs": [],
   "source": [
    "import pandas as pd\n",
    "import numpy as np\n",
    "%matplotlib inline\n",
    "import matplotlib.pyplot as plt"
   ]
  },
  {
   "cell_type": "markdown",
   "metadata": {},
   "source": [
    "## Time series forecasting"
   ]
  },
  {
   "cell_type": "code",
   "execution_count": 1401,
   "metadata": {},
   "outputs": [
    {
     "data": {
      "text/html": [
       "<div>\n",
       "<table border=\"1\" class=\"dataframe\">\n",
       "  <thead>\n",
       "    <tr style=\"text-align: right;\">\n",
       "      <th></th>\n",
       "      <th>Adjustments</th>\n",
       "      <th>Unadjusted</th>\n",
       "      <th>Seasonally adjusted</th>\n",
       "    </tr>\n",
       "  </thead>\n",
       "  <tbody>\n",
       "    <tr>\n",
       "      <th>0</th>\n",
       "      <td>Jan-1991</td>\n",
       "      <td>12588862</td>\n",
       "      <td>15026890</td>\n",
       "    </tr>\n",
       "    <tr>\n",
       "      <th>1</th>\n",
       "      <td>Feb-1991</td>\n",
       "      <td>12154321</td>\n",
       "      <td>15304585</td>\n",
       "    </tr>\n",
       "    <tr>\n",
       "      <th>2</th>\n",
       "      <td>Mar-1991</td>\n",
       "      <td>14337072</td>\n",
       "      <td>15413591</td>\n",
       "    </tr>\n",
       "    <tr>\n",
       "      <th>3</th>\n",
       "      <td>Apr-1991</td>\n",
       "      <td>15108570</td>\n",
       "      <td>15293409</td>\n",
       "    </tr>\n",
       "    <tr>\n",
       "      <th>4</th>\n",
       "      <td>May-1991</td>\n",
       "      <td>17225734</td>\n",
       "      <td>15676083</td>\n",
       "    </tr>\n",
       "  </tbody>\n",
       "</table>\n",
       "</div>"
      ],
      "text/plain": [
       "  Adjustments  Unadjusted  Seasonally adjusted\n",
       "0    Jan-1991    12588862             15026890\n",
       "1    Feb-1991    12154321             15304585\n",
       "2    Mar-1991    14337072             15413591\n",
       "3    Apr-1991    15108570             15293409\n",
       "4    May-1991    17225734             15676083"
      ]
     },
     "execution_count": 1401,
     "metadata": {},
     "output_type": "execute_result"
    }
   ],
   "source": [
    "df = pd.read_csv('../data/cansim-0800020-eng-6674700030567901031.csv',\n",
    "                 skiprows=6, skipfooter=9,\n",
    "                 engine='python')\n",
    "df.head()"
   ]
  },
  {
   "cell_type": "code",
   "execution_count": 1402,
   "metadata": {
    "collapsed": true
   },
   "outputs": [],
   "source": [
    "from pandas.tseries.offsets import MonthEnd"
   ]
  },
  {
   "cell_type": "code",
   "execution_count": 1403,
   "metadata": {},
   "outputs": [
    {
     "data": {
      "text/html": [
       "<div>\n",
       "<table border=\"1\" class=\"dataframe\">\n",
       "  <thead>\n",
       "    <tr style=\"text-align: right;\">\n",
       "      <th></th>\n",
       "      <th>Unadjusted</th>\n",
       "      <th>Seasonally adjusted</th>\n",
       "    </tr>\n",
       "    <tr>\n",
       "      <th>Adjustments</th>\n",
       "      <th></th>\n",
       "      <th></th>\n",
       "    </tr>\n",
       "  </thead>\n",
       "  <tbody>\n",
       "    <tr>\n",
       "      <th>1991-01-31</th>\n",
       "      <td>12588862</td>\n",
       "      <td>15026890</td>\n",
       "    </tr>\n",
       "    <tr>\n",
       "      <th>1991-02-28</th>\n",
       "      <td>12154321</td>\n",
       "      <td>15304585</td>\n",
       "    </tr>\n",
       "    <tr>\n",
       "      <th>1991-03-31</th>\n",
       "      <td>14337072</td>\n",
       "      <td>15413591</td>\n",
       "    </tr>\n",
       "    <tr>\n",
       "      <th>1991-04-30</th>\n",
       "      <td>15108570</td>\n",
       "      <td>15293409</td>\n",
       "    </tr>\n",
       "    <tr>\n",
       "      <th>1991-05-31</th>\n",
       "      <td>17225734</td>\n",
       "      <td>15676083</td>\n",
       "    </tr>\n",
       "  </tbody>\n",
       "</table>\n",
       "</div>"
      ],
      "text/plain": [
       "             Unadjusted  Seasonally adjusted\n",
       "Adjustments                                 \n",
       "1991-01-31     12588862             15026890\n",
       "1991-02-28     12154321             15304585\n",
       "1991-03-31     14337072             15413591\n",
       "1991-04-30     15108570             15293409\n",
       "1991-05-31     17225734             15676083"
      ]
     },
     "execution_count": 1403,
     "metadata": {},
     "output_type": "execute_result"
    }
   ],
   "source": [
    "df['Adjustments'] = pd.to_datetime(df['Adjustments']) + MonthEnd(1)\n",
    "df = df.set_index('Adjustments')\n",
    "df.head()"
   ]
  },
  {
   "cell_type": "code",
   "execution_count": 1404,
   "metadata": {},
   "outputs": [
    {
     "data": {
      "text/plain": [
       "<matplotlib.axes._subplots.AxesSubplot at 0x17ec2aa90>"
      ]
     },
     "execution_count": 1404,
     "metadata": {},
     "output_type": "execute_result"
    },
    {
     "data": {
      "image/png": "[encoded data removed]",
      "text/plain": [
       "<matplotlib.figure.Figure at 0x17c532e80>"
      ]
     },
     "metadata": {},
     "output_type": "display_data"
    }
   ],
   "source": [
    "df.plot()"
   ]
  },
  {
   "cell_type": "code",
   "execution_count": 1405,
   "metadata": {
    "collapsed": true
   },
   "outputs": [],
   "source": [
    "split_date = pd.Timestamp('01-01-2011')\n"
   ]
  },
  {
   "cell_type": "code",
   "execution_count": 1406,
   "metadata": {
    "collapsed": true
   },
   "outputs": [],
   "source": [
    "train = df.loc[:split_date, ['Unadjusted']]\n",
    "test = df.loc[split_date:, ['Unadjusted']]"
   ]
  },
  {
   "cell_type": "code",
   "execution_count": 1407,
   "metadata": {},
   "outputs": [
    {
     "data": {
      "text/plain": [
       "<matplotlib.legend.Legend at 0x17eb82860>"
      ]
     },
     "execution_count": 1407,
     "metadata": {},
     "output_type": "execute_result"
    },
    {
     "data": {
      "image/png": "[encoded data removed]",
      "text/plain": [
       "<matplotlib.figure.Figure at 0x17eb87128>"
      ]
     },
     "metadata": {},
     "output_type": "display_data"
    }
   ],
   "source": [
    "ax = train.plot()\n",
    "test.plot(ax=ax)\n",
    "plt.legend(['train', 'test'])"
   ]
  },
  {
   "cell_type": "code",
   "execution_count": 1408,
   "metadata": {
    "collapsed": true
   },
   "outputs": [],
   "source": [
    "from sklearn.preprocessing import MinMaxScaler\n",
    "\n",
    "sc = MinMaxScaler()\n",
    "\n",
    "train_sc = sc.fit_transform(train)\n",
    "test_sc = sc.transform(test)"
   ]
  },
  {
   "cell_type": "code",
   "execution_count": 1409,
   "metadata": {},
   "outputs": [
    {
     "data": {
      "text/plain": [
       "array([[ 0.01402033],\n",
       "       [ 0.        ],\n",
       "       [ 0.0704258 ],\n",
       "       [ 0.09531795]])"
      ]
     },
     "execution_count": 1409,
     "metadata": {},
     "output_type": "execute_result"
    }
   ],
   "source": [
    "train_sc[:4]\n"
   ]
  },
  {
   "cell_type": "code",
   "execution_count": 1410,
   "metadata": {
    "collapsed": true
   },
   "outputs": [],
   "source": [
    "X_train = train_sc[:-1]\n",
    "y_train = train_sc[1:]\n",
    "\n",
    "X_test = test_sc[:-1]\n",
    "y_test = test_sc[1:]"
   ]
  },
  {
   "cell_type": "markdown",
   "metadata": {},
   "source": [
    "### Fully connected predictor"
   ]
  },
  {
   "cell_type": "code",
   "execution_count": 1411,
   "metadata": {},
   "outputs": [],
   "source": [
    "from keras.models import Sequential\n",
    "from keras.layers import Dense\n",
    "import keras.backend as K\n",
    "from keras.callbacks import EarlyStopping"
   ]
  },
  {
   "cell_type": "code",
   "execution_count": 1412,
   "metadata": {},
   "outputs": [
    {
     "name": "stdout",
     "output_type": "stream",
     "text": [
      "_________________________________________________________________\n",
      "Layer (type)                 Output Shape              Param #   \n",
      "=================================================================\n",
      "dense_1 (Dense)              (None, 12)                24        \n",
      "_________________________________________________________________\n",
      "dense_2 (Dense)              (None, 1)                 13        \n",
      "=================================================================\n",
      "Total params: 37\n",
      "Trainable params: 37\n",
      "Non-trainable params: 0\n",
      "_________________________________________________________________\n"
     ]
    }
   ],
   "source": [
    "K.clear_session()\n",
    "#compare with other optimizers\n",
    "model = Sequential()\n",
    "model.add(Dense(12, input_dim=1, activation='relu'))\n",
    "model.add(Dense(1))\n",
    "model.compile(loss='mean_squared_error', optimizer='adam')\n",
    "model.summary()"
   ]
  },
  {
   "cell_type": "code",
   "execution_count": 1413,
   "metadata": {
    "collapsed": true
   },
   "outputs": [],
   "source": [
    "early_stop = EarlyStopping(monitor='loss', patience=1, verbose=1)"
   ]
  },
  {
   "cell_type": "code",
   "execution_count": 1414,
   "metadata": {},
   "outputs": [
    {
     "name": "stdout",
     "output_type": "stream",
     "text": [
      "Epoch 1/200\n",
      "239/239 [==============================] - 1s - loss: 0.1708     \n",
      "Epoch 2/200\n",
      "239/239 [==============================] - 0s - loss: 0.0351     \n",
      "Epoch 3/200\n",
      "239/239 [==============================] - 0s - loss: 0.0247     - ETA: 0s - loss\n",
      "Epoch 4/200\n",
      "239/239 [==============================] - 0s - loss: 0.0214     \n",
      "Epoch 5/200\n",
      "239/239 [==============================] - 0s - loss: 0.0184     \n",
      "Epoch 6/200\n",
      "239/239 [==============================] - 0s - loss: 0.0159     \n",
      "Epoch 7/200\n",
      "239/239 [==============================] - 0s - loss: 0.0140     \n",
      "Epoch 8/200\n",
      "239/239 [==============================] - 0s - loss: 0.0126     \n",
      "Epoch 9/200\n",
      "239/239 [==============================] - 0s - loss: 0.0117     \n",
      "Epoch 10/200\n",
      "239/239 [==============================] - 0s - loss: 0.0109     \n",
      "Epoch 11/200\n",
      "239/239 [==============================] - 0s - loss: 0.0105     \n",
      "Epoch 12/200\n",
      "239/239 [==============================] - 0s - loss: 0.0102     \n",
      "Epoch 13/200\n",
      "239/239 [==============================] - 0s - loss: 0.0100     \n",
      "Epoch 14/200\n",
      "239/239 [==============================] - 0s - loss: 0.0100     \n",
      "Epoch 15/200\n",
      "239/239 [==============================] - 0s - loss: 0.0100     \n",
      "Epoch 16/200\n",
      "239/239 [==============================] - 0s - loss: 0.0102     \n",
      "Epoch 17/200\n",
      "239/239 [==============================] - 0s - loss: 0.0099     \n",
      "Epoch 18/200\n",
      "239/239 [==============================] - 0s - loss: 0.0100     \n",
      "Epoch 19/200\n",
      "239/239 [==============================] - 0s - loss: 0.0098     \n",
      "Epoch 20/200\n",
      "239/239 [==============================] - 0s - loss: 0.0099     \n",
      "Epoch 21/200\n",
      "239/239 [==============================] - 0s - loss: 0.0098     \n",
      "Epoch 00020: early stopping\n"
     ]
    },
    {
     "data": {
      "text/plain": [
       "<keras.callbacks.History at 0x17ed03a20>"
      ]
     },
     "execution_count": 1414,
     "metadata": {},
     "output_type": "execute_result"
    }
   ],
   "source": [
    "#Try different bach sizes\n",
    "model.fit(X_train, y_train, epochs=200,\n",
    "          batch_size=2, verbose=1,\n",
    "          callbacks=[early_stop])"
   ]
  },
  {
   "cell_type": "code",
   "execution_count": 1415,
   "metadata": {
    "collapsed": true
   },
   "outputs": [],
   "source": [
    "y_pred = model.predict(X_test)"
   ]
  },
  {
   "cell_type": "code",
   "execution_count": 1416,
   "metadata": {},
   "outputs": [
    {
     "data": {
      "text/plain": [
       "[<matplotlib.lines.Line2D at 0x17eb6dbe0>]"
      ]
     },
     "execution_count": 1416,
     "metadata": {},
     "output_type": "execute_result"
    },
    {
     "data": {
      "image/png": "[encoded data removed]",
      "text/plain": [
       "<matplotlib.figure.Figure at 0x17e9d1f28>"
      ]
     },
     "metadata": {},
     "output_type": "display_data"
    }
   ],
   "source": [
    "plt.plot(y_test)\n",
    "plt.plot(y_pred)"
   ]
  },
  {
   "cell_type": "markdown",
   "metadata": {},
   "source": [
    "### Recurrent predictor"
   ]
  },
  {
   "cell_type": "code",
   "execution_count": 1417,
   "metadata": {
    "collapsed": true
   },
   "outputs": [],
   "source": [
    "from keras.layers import LSTM"
   ]
  },
  {
   "cell_type": "code",
   "execution_count": 1418,
   "metadata": {},
   "outputs": [
    {
     "data": {
      "text/plain": [
       "(239, 1)"
      ]
     },
     "execution_count": 1418,
     "metadata": {},
     "output_type": "execute_result"
    }
   ],
   "source": [
    "X_train.shape"
   ]
  },
  {
   "cell_type": "code",
   "execution_count": 1419,
   "metadata": {},
   "outputs": [
    {
     "data": {
      "text/plain": [
       "(239, 1, 1)"
      ]
     },
     "execution_count": 1419,
     "metadata": {},
     "output_type": "execute_result"
    }
   ],
   "source": [
    "#3D tensor with shape (batch_size, timesteps, input_dim)\n",
    "X_train[:, None].shape"
   ]
  },
  {
   "cell_type": "code",
   "execution_count": 1420,
   "metadata": {
    "collapsed": true
   },
   "outputs": [],
   "source": [
    "X_train_t = X_train[:, None]\n",
    "X_test_t = X_test[:, None]"
   ]
  },
  {
   "cell_type": "code",
   "execution_count": 1421,
   "metadata": {
    "collapsed": true
   },
   "outputs": [],
   "source": [
    "K.clear_session()\n",
    "model = Sequential()\n",
    "\n",
    "model.add(LSTM(6, input_shape=(1, 1)))\n",
    "\n",
    "model.add(Dense(1))\n",
    "\n",
    "model.compile(loss='mean_squared_error', optimizer='adam')"
   ]
  },
  {
   "cell_type": "code",
   "execution_count": 1422,
   "metadata": {},
   "outputs": [
    {
     "name": "stdout",
     "output_type": "stream",
     "text": [
      "Epoch 1/100\n",
      "239/239 [==============================] - 5s - loss: 0.1029     \n",
      "Epoch 2/100\n",
      "239/239 [==============================] - ETA: 0s - loss: 0.032 - 3s - loss: 0.0321     \n",
      "Epoch 3/100\n",
      "239/239 [==============================] - 3s - loss: 0.0248     \n",
      "Epoch 4/100\n",
      "239/239 [==============================] - 3s - loss: 0.0194     \n",
      "Epoch 5/100\n",
      "239/239 [==============================] - 3s - loss: 0.0155     \n",
      "Epoch 6/100\n",
      "239/239 [==============================] - 3s - loss: 0.0127     \n",
      "Epoch 7/100\n",
      "239/239 [==============================] - 3s - loss: 0.0115     \n",
      "Epoch 8/100\n",
      "239/239 [==============================] - 3s - loss: 0.0105     \n",
      "Epoch 9/100\n",
      "239/239 [==============================] - 3s - loss: 0.0100     \n",
      "Epoch 10/100\n",
      "239/239 [==============================] - 3s - loss: 0.0100     \n",
      "Epoch 11/100\n",
      "239/239 [==============================] - 3s - loss: 0.0101     \n",
      "Epoch 00010: early stopping\n"
     ]
    },
    {
     "data": {
      "text/plain": [
       "<keras.callbacks.History at 0x17ff8dd30>"
      ]
     },
     "execution_count": 1422,
     "metadata": {},
     "output_type": "execute_result"
    }
   ],
   "source": [
    "model.fit(X_train_t, y_train,\n",
    "          epochs=100, batch_size=1, verbose=1,\n",
    "          callbacks=[early_stop])"
   ]
  },
  {
   "cell_type": "code",
   "execution_count": 1423,
   "metadata": {},
   "outputs": [
    {
     "data": {
      "text/plain": [
       "[<matplotlib.lines.Line2D at 0x17ea1b588>]"
      ]
     },
     "execution_count": 1423,
     "metadata": {},
     "output_type": "execute_result"
    },
    {
     "data": {
      "image/png": "[encoded data removed]",
      "text/plain": [
       "<matplotlib.figure.Figure at 0x180094eb8>"
      ]
     },
     "metadata": {},
     "output_type": "display_data"
    }
   ],
   "source": [
    "y_pred = model.predict(X_test_t)\n",
    "plt.plot(y_test)\n",
    "plt.plot(y_pred)"
   ]
  },
  {
   "cell_type": "markdown",
   "metadata": {},
   "source": [
    "## Windows"
   ]
  },
  {
   "cell_type": "code",
   "execution_count": 1424,
   "metadata": {},
   "outputs": [
    {
     "data": {
      "text/plain": [
       "(240, 1)"
      ]
     },
     "execution_count": 1424,
     "metadata": {},
     "output_type": "execute_result"
    }
   ],
   "source": [
    "train_sc.shape"
   ]
  },
  {
   "cell_type": "code",
   "execution_count": 1425,
   "metadata": {},
   "outputs": [
    {
     "data": {
      "text/html": [
       "<div>\n",
       "<table border=\"1\" class=\"dataframe\">\n",
       "  <thead>\n",
       "    <tr style=\"text-align: right;\">\n",
       "      <th></th>\n",
       "      <th>Scaled</th>\n",
       "    </tr>\n",
       "    <tr>\n",
       "      <th>Adjustments</th>\n",
       "      <th></th>\n",
       "    </tr>\n",
       "  </thead>\n",
       "  <tbody>\n",
       "    <tr>\n",
       "      <th>1991-01-31</th>\n",
       "      <td>0.014020</td>\n",
       "    </tr>\n",
       "    <tr>\n",
       "      <th>1991-02-28</th>\n",
       "      <td>0.000000</td>\n",
       "    </tr>\n",
       "    <tr>\n",
       "      <th>1991-03-31</th>\n",
       "      <td>0.070426</td>\n",
       "    </tr>\n",
       "    <tr>\n",
       "      <th>1991-04-30</th>\n",
       "      <td>0.095318</td>\n",
       "    </tr>\n",
       "    <tr>\n",
       "      <th>1991-05-31</th>\n",
       "      <td>0.163628</td>\n",
       "    </tr>\n",
       "  </tbody>\n",
       "</table>\n",
       "</div>"
      ],
      "text/plain": [
       "               Scaled\n",
       "Adjustments          \n",
       "1991-01-31   0.014020\n",
       "1991-02-28   0.000000\n",
       "1991-03-31   0.070426\n",
       "1991-04-30   0.095318\n",
       "1991-05-31   0.163628"
      ]
     },
     "execution_count": 1425,
     "metadata": {},
     "output_type": "execute_result"
    }
   ],
   "source": [
    "train_sc_df = pd.DataFrame(train_sc, columns=['Scaled'], index=train.index)\n",
    "test_sc_df = pd.DataFrame(test_sc, columns=['Scaled'], index=test.index)\n",
    "train_sc_df.head()"
   ]
  },
  {
   "cell_type": "code",
   "execution_count": 1426,
   "metadata": {
    "collapsed": true
   },
   "outputs": [],
   "source": [
    "for s in range(1, 13):\n",
    "    train_sc_df['shift_{}'.format(s)] = train_sc_df['Scaled'].shift(s)\n",
    "    test_sc_df['shift_{}'.format(s)] = test_sc_df['Scaled'].shift(s)"
   ]
  },
  {
   "cell_type": "code",
   "execution_count": 1427,
   "metadata": {},
   "outputs": [
    {
     "data": {
      "text/html": [
       "<div>\n",
       "<table border=\"1\" class=\"dataframe\">\n",
       "  <thead>\n",
       "    <tr style=\"text-align: right;\">\n",
       "      <th></th>\n",
       "      <th>Scaled</th>\n",
       "      <th>shift_1</th>\n",
       "      <th>shift_2</th>\n",
       "      <th>shift_3</th>\n",
       "      <th>shift_4</th>\n",
       "      <th>shift_5</th>\n",
       "      <th>shift_6</th>\n",
       "      <th>shift_7</th>\n",
       "      <th>shift_8</th>\n",
       "      <th>shift_9</th>\n",
       "      <th>shift_10</th>\n",
       "      <th>shift_11</th>\n",
       "      <th>shift_12</th>\n",
       "    </tr>\n",
       "    <tr>\n",
       "      <th>Adjustments</th>\n",
       "      <th></th>\n",
       "      <th></th>\n",
       "      <th></th>\n",
       "      <th></th>\n",
       "      <th></th>\n",
       "      <th></th>\n",
       "      <th></th>\n",
       "      <th></th>\n",
       "      <th></th>\n",
       "      <th></th>\n",
       "      <th></th>\n",
       "      <th></th>\n",
       "      <th></th>\n",
       "    </tr>\n",
       "  </thead>\n",
       "  <tbody>\n",
       "    <tr>\n",
       "      <th>1991-01-31</th>\n",
       "      <td>0.014020</td>\n",
       "      <td>NaN</td>\n",
       "      <td>NaN</td>\n",
       "      <td>NaN</td>\n",
       "      <td>NaN</td>\n",
       "      <td>NaN</td>\n",
       "      <td>NaN</td>\n",
       "      <td>NaN</td>\n",
       "      <td>NaN</td>\n",
       "      <td>NaN</td>\n",
       "      <td>NaN</td>\n",
       "      <td>NaN</td>\n",
       "      <td>NaN</td>\n",
       "    </tr>\n",
       "    <tr>\n",
       "      <th>1991-02-28</th>\n",
       "      <td>0.000000</td>\n",
       "      <td>0.014020</td>\n",
       "      <td>NaN</td>\n",
       "      <td>NaN</td>\n",
       "      <td>NaN</td>\n",
       "      <td>NaN</td>\n",
       "      <td>NaN</td>\n",
       "      <td>NaN</td>\n",
       "      <td>NaN</td>\n",
       "      <td>NaN</td>\n",
       "      <td>NaN</td>\n",
       "      <td>NaN</td>\n",
       "      <td>NaN</td>\n",
       "    </tr>\n",
       "    <tr>\n",
       "      <th>1991-03-31</th>\n",
       "      <td>0.070426</td>\n",
       "      <td>0.000000</td>\n",
       "      <td>0.014020</td>\n",
       "      <td>NaN</td>\n",
       "      <td>NaN</td>\n",
       "      <td>NaN</td>\n",
       "      <td>NaN</td>\n",
       "      <td>NaN</td>\n",
       "      <td>NaN</td>\n",
       "      <td>NaN</td>\n",
       "      <td>NaN</td>\n",
       "      <td>NaN</td>\n",
       "      <td>NaN</td>\n",
       "    </tr>\n",
       "    <tr>\n",
       "      <th>1991-04-30</th>\n",
       "      <td>0.095318</td>\n",
       "      <td>0.070426</td>\n",
       "      <td>0.000000</td>\n",
       "      <td>0.014020</td>\n",
       "      <td>NaN</td>\n",
       "      <td>NaN</td>\n",
       "      <td>NaN</td>\n",
       "      <td>NaN</td>\n",
       "      <td>NaN</td>\n",
       "      <td>NaN</td>\n",
       "      <td>NaN</td>\n",
       "      <td>NaN</td>\n",
       "      <td>NaN</td>\n",
       "    </tr>\n",
       "    <tr>\n",
       "      <th>1991-05-31</th>\n",
       "      <td>0.163628</td>\n",
       "      <td>0.095318</td>\n",
       "      <td>0.070426</td>\n",
       "      <td>0.000000</td>\n",
       "      <td>0.014020</td>\n",
       "      <td>NaN</td>\n",
       "      <td>NaN</td>\n",
       "      <td>NaN</td>\n",
       "      <td>NaN</td>\n",
       "      <td>NaN</td>\n",
       "      <td>NaN</td>\n",
       "      <td>NaN</td>\n",
       "      <td>NaN</td>\n",
       "    </tr>\n",
       "    <tr>\n",
       "      <th>1991-06-30</th>\n",
       "      <td>0.135141</td>\n",
       "      <td>0.163628</td>\n",
       "      <td>0.095318</td>\n",
       "      <td>0.070426</td>\n",
       "      <td>0.000000</td>\n",
       "      <td>0.014020</td>\n",
       "      <td>NaN</td>\n",
       "      <td>NaN</td>\n",
       "      <td>NaN</td>\n",
       "      <td>NaN</td>\n",
       "      <td>NaN</td>\n",
       "      <td>NaN</td>\n",
       "      <td>NaN</td>\n",
       "    </tr>\n",
       "    <tr>\n",
       "      <th>1991-07-31</th>\n",
       "      <td>0.123958</td>\n",
       "      <td>0.135141</td>\n",
       "      <td>0.163628</td>\n",
       "      <td>0.095318</td>\n",
       "      <td>0.070426</td>\n",
       "      <td>0.000000</td>\n",
       "      <td>0.014020</td>\n",
       "      <td>NaN</td>\n",
       "      <td>NaN</td>\n",
       "      <td>NaN</td>\n",
       "      <td>NaN</td>\n",
       "      <td>NaN</td>\n",
       "      <td>NaN</td>\n",
       "    </tr>\n",
       "    <tr>\n",
       "      <th>1991-08-31</th>\n",
       "      <td>0.126174</td>\n",
       "      <td>0.123958</td>\n",
       "      <td>0.135141</td>\n",
       "      <td>0.163628</td>\n",
       "      <td>0.095318</td>\n",
       "      <td>0.070426</td>\n",
       "      <td>0.000000</td>\n",
       "      <td>0.014020</td>\n",
       "      <td>NaN</td>\n",
       "      <td>NaN</td>\n",
       "      <td>NaN</td>\n",
       "      <td>NaN</td>\n",
       "      <td>NaN</td>\n",
       "    </tr>\n",
       "    <tr>\n",
       "      <th>1991-09-30</th>\n",
       "      <td>0.092309</td>\n",
       "      <td>0.126174</td>\n",
       "      <td>0.123958</td>\n",
       "      <td>0.135141</td>\n",
       "      <td>0.163628</td>\n",
       "      <td>0.095318</td>\n",
       "      <td>0.070426</td>\n",
       "      <td>0.000000</td>\n",
       "      <td>0.014020</td>\n",
       "      <td>NaN</td>\n",
       "      <td>NaN</td>\n",
       "      <td>NaN</td>\n",
       "      <td>NaN</td>\n",
       "    </tr>\n",
       "    <tr>\n",
       "      <th>1991-10-31</th>\n",
       "      <td>0.111395</td>\n",
       "      <td>0.092309</td>\n",
       "      <td>0.126174</td>\n",
       "      <td>0.123958</td>\n",
       "      <td>0.135141</td>\n",
       "      <td>0.163628</td>\n",
       "      <td>0.095318</td>\n",
       "      <td>0.070426</td>\n",
       "      <td>0.000000</td>\n",
       "      <td>0.014020</td>\n",
       "      <td>NaN</td>\n",
       "      <td>NaN</td>\n",
       "      <td>NaN</td>\n",
       "    </tr>\n",
       "    <tr>\n",
       "      <th>1991-11-30</th>\n",
       "      <td>0.131738</td>\n",
       "      <td>0.111395</td>\n",
       "      <td>0.092309</td>\n",
       "      <td>0.126174</td>\n",
       "      <td>0.123958</td>\n",
       "      <td>0.135141</td>\n",
       "      <td>0.163628</td>\n",
       "      <td>0.095318</td>\n",
       "      <td>0.070426</td>\n",
       "      <td>0.000000</td>\n",
       "      <td>0.014020</td>\n",
       "      <td>NaN</td>\n",
       "      <td>NaN</td>\n",
       "    </tr>\n",
       "    <tr>\n",
       "      <th>1991-12-31</th>\n",
       "      <td>0.200913</td>\n",
       "      <td>0.131738</td>\n",
       "      <td>0.111395</td>\n",
       "      <td>0.092309</td>\n",
       "      <td>0.126174</td>\n",
       "      <td>0.123958</td>\n",
       "      <td>0.135141</td>\n",
       "      <td>0.163628</td>\n",
       "      <td>0.095318</td>\n",
       "      <td>0.070426</td>\n",
       "      <td>0.000000</td>\n",
       "      <td>0.01402</td>\n",
       "      <td>NaN</td>\n",
       "    </tr>\n",
       "    <tr>\n",
       "      <th>1992-01-31</th>\n",
       "      <td>0.030027</td>\n",
       "      <td>0.200913</td>\n",
       "      <td>0.131738</td>\n",
       "      <td>0.111395</td>\n",
       "      <td>0.092309</td>\n",
       "      <td>0.126174</td>\n",
       "      <td>0.123958</td>\n",
       "      <td>0.135141</td>\n",
       "      <td>0.163628</td>\n",
       "      <td>0.095318</td>\n",
       "      <td>0.070426</td>\n",
       "      <td>0.00000</td>\n",
       "      <td>0.01402</td>\n",
       "    </tr>\n",
       "  </tbody>\n",
       "</table>\n",
       "</div>"
      ],
      "text/plain": [
       "               Scaled   shift_1   shift_2   shift_3   shift_4   shift_5  \\\n",
       "Adjustments                                                               \n",
       "1991-01-31   0.014020       NaN       NaN       NaN       NaN       NaN   \n",
       "1991-02-28   0.000000  0.014020       NaN       NaN       NaN       NaN   \n",
       "1991-03-31   0.070426  0.000000  0.014020       NaN       NaN       NaN   \n",
       "1991-04-30   0.095318  0.070426  0.000000  0.014020       NaN       NaN   \n",
       "1991-05-31   0.163628  0.095318  0.070426  0.000000  0.014020       NaN   \n",
       "1991-06-30   0.135141  0.163628  0.095318  0.070426  0.000000  0.014020   \n",
       "1991-07-31   0.123958  0.135141  0.163628  0.095318  0.070426  0.000000   \n",
       "1991-08-31   0.126174  0.123958  0.135141  0.163628  0.095318  0.070426   \n",
       "1991-09-30   0.092309  0.126174  0.123958  0.135141  0.163628  0.095318   \n",
       "1991-10-31   0.111395  0.092309  0.126174  0.123958  0.135141  0.163628   \n",
       "1991-11-30   0.131738  0.111395  0.092309  0.126174  0.123958  0.135141   \n",
       "1991-12-31   0.200913  0.131738  0.111395  0.092309  0.126174  0.123958   \n",
       "1992-01-31   0.030027  0.200913  0.131738  0.111395  0.092309  0.126174   \n",
       "\n",
       "              shift_6   shift_7   shift_8   shift_9  shift_10  shift_11  \\\n",
       "Adjustments                                                               \n",
       "1991-01-31        NaN       NaN       NaN       NaN       NaN       NaN   \n",
       "1991-02-28        NaN       NaN       NaN       NaN       NaN       NaN   \n",
       "1991-03-31        NaN       NaN       NaN       NaN       NaN       NaN   \n",
       "1991-04-30        NaN       NaN       NaN       NaN       NaN       NaN   \n",
       "1991-05-31        NaN       NaN       NaN       NaN       NaN       NaN   \n",
       "1991-06-30        NaN       NaN       NaN       NaN       NaN       NaN   \n",
       "1991-07-31   0.014020       NaN       NaN       NaN       NaN       NaN   \n",
       "1991-08-31   0.000000  0.014020       NaN       NaN       NaN       NaN   \n",
       "1991-09-30   0.070426  0.000000  0.014020       NaN       NaN       NaN   \n",
       "1991-10-31   0.095318  0.070426  0.000000  0.014020       NaN       NaN   \n",
       "1991-11-30   0.163628  0.095318  0.070426  0.000000  0.014020       NaN   \n",
       "1991-12-31   0.135141  0.163628  0.095318  0.070426  0.000000   0.01402   \n",
       "1992-01-31   0.123958  0.135141  0.163628  0.095318  0.070426   0.00000   \n",
       "\n",
       "             shift_12  \n",
       "Adjustments            \n",
       "1991-01-31        NaN  \n",
       "1991-02-28        NaN  \n",
       "1991-03-31        NaN  \n",
       "1991-04-30        NaN  \n",
       "1991-05-31        NaN  \n",
       "1991-06-30        NaN  \n",
       "1991-07-31        NaN  \n",
       "1991-08-31        NaN  \n",
       "1991-09-30        NaN  \n",
       "1991-10-31        NaN  \n",
       "1991-11-30        NaN  \n",
       "1991-12-31        NaN  \n",
       "1992-01-31    0.01402  "
      ]
     },
     "execution_count": 1427,
     "metadata": {},
     "output_type": "execute_result"
    }
   ],
   "source": [
    "train_sc_df.head(13)"
   ]
  },
  {
   "cell_type": "code",
   "execution_count": 1428,
   "metadata": {
    "collapsed": true
   },
   "outputs": [],
   "source": [
    "X_train = train_sc_df.dropna().drop('Scaled', axis=1)\n",
    "y_train = train_sc_df.dropna()[['Scaled']]\n",
    "\n",
    "X_test = test_sc_df.dropna().drop('Scaled', axis=1)\n",
    "y_test = test_sc_df.dropna()[['Scaled']]"
   ]
  },
  {
   "cell_type": "code",
   "execution_count": 1429,
   "metadata": {
    "scrolled": true
   },
   "outputs": [
    {
     "data": {
      "text/html": [
       "<div>\n",
       "<table border=\"1\" class=\"dataframe\">\n",
       "  <thead>\n",
       "    <tr style=\"text-align: right;\">\n",
       "      <th></th>\n",
       "      <th>shift_1</th>\n",
       "      <th>shift_2</th>\n",
       "      <th>shift_3</th>\n",
       "      <th>shift_4</th>\n",
       "      <th>shift_5</th>\n",
       "      <th>shift_6</th>\n",
       "      <th>shift_7</th>\n",
       "      <th>shift_8</th>\n",
       "      <th>shift_9</th>\n",
       "      <th>shift_10</th>\n",
       "      <th>shift_11</th>\n",
       "      <th>shift_12</th>\n",
       "    </tr>\n",
       "    <tr>\n",
       "      <th>Adjustments</th>\n",
       "      <th></th>\n",
       "      <th></th>\n",
       "      <th></th>\n",
       "      <th></th>\n",
       "      <th></th>\n",
       "      <th></th>\n",
       "      <th></th>\n",
       "      <th></th>\n",
       "      <th></th>\n",
       "      <th></th>\n",
       "      <th></th>\n",
       "      <th></th>\n",
       "    </tr>\n",
       "  </thead>\n",
       "  <tbody>\n",
       "    <tr>\n",
       "      <th>1992-01-31</th>\n",
       "      <td>0.200913</td>\n",
       "      <td>0.131738</td>\n",
       "      <td>0.111395</td>\n",
       "      <td>0.092309</td>\n",
       "      <td>0.126174</td>\n",
       "      <td>0.123958</td>\n",
       "      <td>0.135141</td>\n",
       "      <td>0.163628</td>\n",
       "      <td>0.095318</td>\n",
       "      <td>0.070426</td>\n",
       "      <td>0.000000</td>\n",
       "      <td>0.014020</td>\n",
       "    </tr>\n",
       "    <tr>\n",
       "      <th>1992-02-29</th>\n",
       "      <td>0.030027</td>\n",
       "      <td>0.200913</td>\n",
       "      <td>0.131738</td>\n",
       "      <td>0.111395</td>\n",
       "      <td>0.092309</td>\n",
       "      <td>0.126174</td>\n",
       "      <td>0.123958</td>\n",
       "      <td>0.135141</td>\n",
       "      <td>0.163628</td>\n",
       "      <td>0.095318</td>\n",
       "      <td>0.070426</td>\n",
       "      <td>0.000000</td>\n",
       "    </tr>\n",
       "    <tr>\n",
       "      <th>1992-03-31</th>\n",
       "      <td>0.019993</td>\n",
       "      <td>0.030027</td>\n",
       "      <td>0.200913</td>\n",
       "      <td>0.131738</td>\n",
       "      <td>0.111395</td>\n",
       "      <td>0.092309</td>\n",
       "      <td>0.126174</td>\n",
       "      <td>0.123958</td>\n",
       "      <td>0.135141</td>\n",
       "      <td>0.163628</td>\n",
       "      <td>0.095318</td>\n",
       "      <td>0.070426</td>\n",
       "    </tr>\n",
       "    <tr>\n",
       "      <th>1992-04-30</th>\n",
       "      <td>0.065964</td>\n",
       "      <td>0.019993</td>\n",
       "      <td>0.030027</td>\n",
       "      <td>0.200913</td>\n",
       "      <td>0.131738</td>\n",
       "      <td>0.111395</td>\n",
       "      <td>0.092309</td>\n",
       "      <td>0.126174</td>\n",
       "      <td>0.123958</td>\n",
       "      <td>0.135141</td>\n",
       "      <td>0.163628</td>\n",
       "      <td>0.095318</td>\n",
       "    </tr>\n",
       "    <tr>\n",
       "      <th>1992-05-31</th>\n",
       "      <td>0.109831</td>\n",
       "      <td>0.065964</td>\n",
       "      <td>0.019993</td>\n",
       "      <td>0.030027</td>\n",
       "      <td>0.200913</td>\n",
       "      <td>0.131738</td>\n",
       "      <td>0.111395</td>\n",
       "      <td>0.092309</td>\n",
       "      <td>0.126174</td>\n",
       "      <td>0.123958</td>\n",
       "      <td>0.135141</td>\n",
       "      <td>0.163628</td>\n",
       "    </tr>\n",
       "  </tbody>\n",
       "</table>\n",
       "</div>"
      ],
      "text/plain": [
       "              shift_1   shift_2   shift_3   shift_4   shift_5   shift_6  \\\n",
       "Adjustments                                                               \n",
       "1992-01-31   0.200913  0.131738  0.111395  0.092309  0.126174  0.123958   \n",
       "1992-02-29   0.030027  0.200913  0.131738  0.111395  0.092309  0.126174   \n",
       "1992-03-31   0.019993  0.030027  0.200913  0.131738  0.111395  0.092309   \n",
       "1992-04-30   0.065964  0.019993  0.030027  0.200913  0.131738  0.111395   \n",
       "1992-05-31   0.109831  0.065964  0.019993  0.030027  0.200913  0.131738   \n",
       "\n",
       "              shift_7   shift_8   shift_9  shift_10  shift_11  shift_12  \n",
       "Adjustments                                                              \n",
       "1992-01-31   0.135141  0.163628  0.095318  0.070426  0.000000  0.014020  \n",
       "1992-02-29   0.123958  0.135141  0.163628  0.095318  0.070426  0.000000  \n",
       "1992-03-31   0.126174  0.123958  0.135141  0.163628  0.095318  0.070426  \n",
       "1992-04-30   0.092309  0.126174  0.123958  0.135141  0.163628  0.095318  \n",
       "1992-05-31   0.111395  0.092309  0.126174  0.123958  0.135141  0.163628  "
      ]
     },
     "execution_count": 1429,
     "metadata": {},
     "output_type": "execute_result"
    }
   ],
   "source": [
    "X_train.head()"
   ]
  },
  {
   "cell_type": "code",
   "execution_count": 1430,
   "metadata": {},
   "outputs": [
    {
     "data": {
      "text/plain": [
       "(228, 12)"
      ]
     },
     "execution_count": 1430,
     "metadata": {},
     "output_type": "execute_result"
    }
   ],
   "source": [
    "X_train.shape"
   ]
  },
  {
   "cell_type": "code",
   "execution_count": 1431,
   "metadata": {
    "collapsed": true
   },
   "outputs": [],
   "source": [
    "X_train = X_train.values\n",
    "X_test= X_test.values\n",
    "\n",
    "y_train = y_train.values\n",
    "y_test = y_test.values"
   ]
  },
  {
   "cell_type": "markdown",
   "metadata": {},
   "source": [
    "### Experiment with Adam"
   ]
  },
  {
   "cell_type": "code",
   "execution_count": 1432,
   "metadata": {},
   "outputs": [],
   "source": [
    "X_train_t = X_train.reshape(X_train.shape[0], 1, 12)\n",
    "X_test_t = X_test.reshape(X_test.shape[0], 1, 12)\n",
    "X_train_t.shape\n",
    "K.clear_session()\n",
    "model = Sequential()\n",
    "model.add(LSTM(6, input_shape=(1, 12)))\n",
    "model.add(Dense(1))\n",
    "model.compile(loss='mean_squared_error', optimizer='adam')"
   ]
  },
  {
   "cell_type": "code",
   "execution_count": 1433,
   "metadata": {},
   "outputs": [
    {
     "name": "stdout",
     "output_type": "stream",
     "text": [
      "Epoch 1/100\n",
      "228/228 [==============================] - 6s - loss: 0.0211     \n",
      "Epoch 2/100\n",
      "228/228 [==============================] - 3s - loss: 0.0069     \n",
      "Epoch 3/100\n",
      "228/228 [==============================] - 3s - loss: 0.0064     \n",
      "Epoch 4/100\n",
      "228/228 [==============================] - 3s - loss: 0.0060     \n",
      "Epoch 5/100\n",
      "228/228 [==============================] - 3s - loss: 0.0052     \n",
      "Epoch 6/100\n",
      "228/228 [==============================] - 3s - loss: 0.0050     \n",
      "Epoch 7/100\n",
      "228/228 [==============================] - 3s - loss: 0.0046     \n",
      "Epoch 8/100\n",
      "228/228 [==============================] - 3s - loss: 0.0046     \n",
      "Epoch 9/100\n",
      "228/228 [==============================] - 3s - loss: 0.0040     \n",
      "Epoch 10/100\n",
      "228/228 [==============================] - 3s - loss: 0.0036     \n",
      "Epoch 11/100\n",
      "228/228 [==============================] - 3s - loss: 0.0035     \n",
      "Epoch 12/100\n",
      "228/228 [==============================] - 2s - loss: 0.0030     \n",
      "Epoch 13/100\n",
      "228/228 [==============================] - 3s - loss: 0.0029     \n",
      "Epoch 14/100\n",
      "228/228 [==============================] - 2s - loss: 0.0027     \n",
      "Epoch 15/100\n",
      "228/228 [==============================] - 3s - loss: 0.0024     \n",
      "Epoch 16/100\n",
      "228/228 [==============================] - 3s - loss: 0.0022     \n",
      "Epoch 17/100\n",
      "228/228 [==============================] - 3s - loss: 0.0021     \n",
      "Epoch 18/100\n",
      "228/228 [==============================] - 3s - loss: 0.0019     \n",
      "Epoch 19/100\n",
      "228/228 [==============================] - 4s - loss: 0.0018     \n",
      "Epoch 20/100\n",
      "228/228 [==============================] - 3s - loss: 0.0017     \n",
      "Epoch 21/100\n",
      "228/228 [==============================] - 2s - loss: 0.0017     \n",
      "Epoch 22/100\n",
      "228/228 [==============================] - 2s - loss: 0.0015     \n",
      "Epoch 23/100\n",
      "228/228 [==============================] - 2s - loss: 0.0015     \n",
      "Epoch 24/100\n",
      "228/228 [==============================] - 3s - loss: 0.0013     \n",
      "Epoch 25/100\n",
      "228/228 [==============================] - 2s - loss: 0.0014     \n",
      "Epoch 26/100\n",
      "228/228 [==============================] - 2s - loss: 0.0013     \n",
      "Epoch 00025: early stopping\n"
     ]
    },
    {
     "data": {
      "text/plain": [
       "<keras.callbacks.History at 0x180dcae10>"
      ]
     },
     "execution_count": 1433,
     "metadata": {},
     "output_type": "execute_result"
    }
   ],
   "source": [
    "model.fit(X_train_t, y_train, epochs=100,\n",
    "          batch_size=1, verbose=1, callbacks=[early_stop])"
   ]
  },
  {
   "cell_type": "code",
   "execution_count": 1434,
   "metadata": {},
   "outputs": [
    {
     "data": {
      "text/plain": [
       "[<matplotlib.lines.Line2D at 0x180e8fb00>]"
      ]
     },
     "execution_count": 1434,
     "metadata": {},
     "output_type": "execute_result"
    },
    {
     "data": {
      "image/png": "[encoded data removed]",
      "text/plain": [
       "<matplotlib.figure.Figure at 0x180ed1908>"
      ]
     },
     "metadata": {},
     "output_type": "display_data"
    }
   ],
   "source": [
    "y_pred = model.predict(X_test_t)\n",
    "plt.plot(y_test)\n",
    "plt.plot(y_pred)"
   ]
  },
  {
   "cell_type": "markdown",
   "metadata": {},
   "source": [
    "### Experiment Using SGD"
   ]
  },
  {
   "cell_type": "code",
   "execution_count": 1435,
   "metadata": {
    "collapsed": true
   },
   "outputs": [],
   "source": [
    "X_train_t = X_train.reshape(X_train.shape[0], 1, 12)\n",
    "X_test_t = X_test.reshape(X_test.shape[0], 1, 12)"
   ]
  },
  {
   "cell_type": "code",
   "execution_count": 1436,
   "metadata": {},
   "outputs": [
    {
     "data": {
      "text/plain": [
       "(228, 1, 12)"
      ]
     },
     "execution_count": 1436,
     "metadata": {},
     "output_type": "execute_result"
    }
   ],
   "source": [
    "X_train_t.shape"
   ]
  },
  {
   "cell_type": "code",
   "execution_count": 1437,
   "metadata": {
    "collapsed": true
   },
   "outputs": [],
   "source": [
    "K.clear_session()\n",
    "model = Sequential()\n",
    "\n",
    "model.add(LSTM(6, input_shape=(1, 12)))\n",
    "\n",
    "model.add(Dense(1))\n",
    "\n",
    "model.compile(loss='mean_squared_error', optimizer='sgd')"
   ]
  },
  {
   "cell_type": "code",
   "execution_count": 1438,
   "metadata": {
    "scrolled": true
   },
   "outputs": [
    {
     "name": "stdout",
     "output_type": "stream",
     "text": [
      "_________________________________________________________________\n",
      "Layer (type)                 Output Shape              Param #   \n",
      "=================================================================\n",
      "lstm_1 (LSTM)                (None, 6)                 456       \n",
      "_________________________________________________________________\n",
      "dense_1 (Dense)              (None, 1)                 7         \n",
      "=================================================================\n",
      "Total params: 463\n",
      "Trainable params: 463\n",
      "Non-trainable params: 0\n",
      "_________________________________________________________________\n"
     ]
    }
   ],
   "source": [
    "model.summary()"
   ]
  },
  {
   "cell_type": "code",
   "execution_count": 1439,
   "metadata": {},
   "outputs": [
    {
     "name": "stdout",
     "output_type": "stream",
     "text": [
      "Epoch 1/100\n",
      "228/228 [==============================] - 3s - loss: 0.0451     \n",
      "Epoch 2/100\n",
      "228/228 [==============================] - 2s - loss: 0.0262     \n",
      "Epoch 3/100\n",
      "228/228 [==============================] - 2s - loss: 0.0206     \n",
      "Epoch 4/100\n",
      "228/228 [==============================] - 2s - loss: 0.0163     \n",
      "Epoch 5/100\n",
      "228/228 [==============================] - 2s - loss: 0.0132     \n",
      "Epoch 6/100\n",
      "228/228 [==============================] - 2s - loss: 0.0110     \n",
      "Epoch 7/100\n",
      "228/228 [==============================] - 2s - loss: 0.0094     \n",
      "Epoch 8/100\n",
      "228/228 [==============================] - 2s - loss: 0.0086     \n",
      "Epoch 9/100\n",
      "228/228 [==============================] - 2s - loss: 0.0079     \n",
      "Epoch 10/100\n",
      "228/228 [==============================] - 2s - loss: 0.0074     \n",
      "Epoch 11/100\n",
      "228/228 [==============================] - 2s - loss: 0.0073     \n",
      "Epoch 12/100\n",
      "228/228 [==============================] - 2s - loss: 0.0071     \n",
      "Epoch 13/100\n",
      "228/228 [==============================] - 2s - loss: 0.0069     \n",
      "Epoch 14/100\n",
      "228/228 [==============================] - 2s - loss: 0.0068     \n",
      "Epoch 15/100\n",
      "228/228 [==============================] - 2s - loss: 0.0067     \n",
      "Epoch 16/100\n",
      "228/228 [==============================] - 2s - loss: 0.0066     \n",
      "Epoch 17/100\n",
      "228/228 [==============================] - 2s - loss: 0.0065     \n",
      "Epoch 18/100\n",
      "228/228 [==============================] - 2s - loss: 0.0065     \n",
      "Epoch 19/100\n",
      "228/228 [==============================] - 2s - loss: 0.0064     \n",
      "Epoch 20/100\n",
      "228/228 [==============================] - 2s - loss: 0.0064     \n",
      "Epoch 21/100\n",
      "228/228 [==============================] - 2s - loss: 0.0062     \n",
      "Epoch 22/100\n",
      "228/228 [==============================] - 2s - loss: 0.0062     \n",
      "Epoch 23/100\n",
      "228/228 [==============================] - 2s - loss: 0.0061     \n",
      "Epoch 24/100\n",
      "228/228 [==============================] - 2s - loss: 0.0061     \n",
      "Epoch 25/100\n",
      "228/228 [==============================] - 2s - loss: 0.0060     \n",
      "Epoch 26/100\n",
      "228/228 [==============================] - 2s - loss: 0.0059     \n",
      "Epoch 27/100\n",
      "228/228 [==============================] - 2s - loss: 0.0058     \n",
      "Epoch 28/100\n",
      "228/228 [==============================] - 2s - loss: 0.0057     \n",
      "Epoch 29/100\n",
      "228/228 [==============================] - 2s - loss: 0.0057     \n",
      "Epoch 30/100\n",
      "228/228 [==============================] - 2s - loss: 0.0057     \n",
      "Epoch 31/100\n",
      "228/228 [==============================] - 2s - loss: 0.0056     \n",
      "Epoch 32/100\n",
      "228/228 [==============================] - 2s - loss: 0.0055     \n",
      "Epoch 33/100\n",
      "228/228 [==============================] - 2s - loss: 0.0054     \n",
      "Epoch 34/100\n",
      "228/228 [==============================] - 2s - loss: 0.0054     \n",
      "Epoch 35/100\n",
      "228/228 [==============================] - 2s - loss: 0.0052     \n",
      "Epoch 36/100\n",
      "228/228 [==============================] - 2s - loss: 0.0052     \n",
      "Epoch 37/100\n",
      "228/228 [==============================] - 2s - loss: 0.0052     \n",
      "Epoch 38/100\n",
      "228/228 [==============================] - 2s - loss: 0.0051     \n",
      "Epoch 39/100\n",
      "228/228 [==============================] - 2s - loss: 0.0051     \n",
      "Epoch 40/100\n",
      "228/228 [==============================] - 2s - loss: 0.0049     \n",
      "Epoch 41/100\n",
      "228/228 [==============================] - 2s - loss: 0.0050     \n",
      "Epoch 42/100\n",
      "228/228 [==============================] - 2s - loss: 0.0049     \n",
      "Epoch 00041: early stopping\n"
     ]
    },
    {
     "data": {
      "text/plain": [
       "<keras.callbacks.History at 0x1817be6d8>"
      ]
     },
     "execution_count": 1439,
     "metadata": {},
     "output_type": "execute_result"
    }
   ],
   "source": [
    "model.fit(X_train_t, y_train, epochs=100,\n",
    "          batch_size=1, verbose=1, callbacks=[early_stop])"
   ]
  },
  {
   "cell_type": "code",
   "execution_count": 1440,
   "metadata": {},
   "outputs": [
    {
     "data": {
      "text/plain": [
       "[<matplotlib.lines.Line2D at 0x1801f65c0>]"
      ]
     },
     "execution_count": 1440,
     "metadata": {},
     "output_type": "execute_result"
    },
    {
     "data": {
      "image/png": "[encoded data removed]",
      "text/plain": [
       "<matplotlib.figure.Figure at 0x181800748>"
      ]
     },
     "metadata": {},
     "output_type": "display_data"
    }
   ],
   "source": [
    "y_pred = model.predict(X_test_t)\n",
    "plt.plot(y_test)\n",
    "plt.plot(y_pred)"
   ]
  },
  {
   "cell_type": "markdown",
   "metadata": {},
   "source": [
    "# Experiment Using Adagrad\n"
   ]
  },
  {
   "cell_type": "code",
   "execution_count": 1441,
   "metadata": {
    "collapsed": true
   },
   "outputs": [],
   "source": [
    "X_train_t = X_train.reshape(X_train.shape[0], 1, 12)\n",
    "X_test_t = X_test.reshape(X_test.shape[0], 1, 12)"
   ]
  },
  {
   "cell_type": "code",
   "execution_count": 1442,
   "metadata": {},
   "outputs": [
    {
     "data": {
      "text/plain": [
       "(228, 1, 12)"
      ]
     },
     "execution_count": 1442,
     "metadata": {},
     "output_type": "execute_result"
    }
   ],
   "source": [
    "X_train_t.shape"
   ]
  },
  {
   "cell_type": "code",
   "execution_count": 1443,
   "metadata": {
    "collapsed": true
   },
   "outputs": [],
   "source": [
    "from keras.models import Sequential\n",
    "from keras.layers import LSTM, Dense\n",
    "import keras.backend as K\n",
    "from keras.callbacks import EarlyStopping"
   ]
  },
  {
   "cell_type": "code",
   "execution_count": 1444,
   "metadata": {
    "collapsed": true
   },
   "outputs": [],
   "source": [
    "K.clear_session()\n",
    "model = Sequential()\n",
    "model.add(LSTM(6, input_shape=(1, 12)))\n",
    "model.add(Dense(1))\n",
    "model.compile(loss='mean_squared_error', optimizer='adagrad')"
   ]
  },
  {
   "cell_type": "code",
   "execution_count": 1445,
   "metadata": {
    "scrolled": true
   },
   "outputs": [
    {
     "name": "stdout",
     "output_type": "stream",
     "text": [
      "_________________________________________________________________\n",
      "Layer (type)                 Output Shape              Param #   \n",
      "=================================================================\n",
      "lstm_1 (LSTM)                (None, 6)                 456       \n",
      "_________________________________________________________________\n",
      "dense_1 (Dense)              (None, 1)                 7         \n",
      "=================================================================\n",
      "Total params: 463\n",
      "Trainable params: 463\n",
      "Non-trainable params: 0\n",
      "_________________________________________________________________\n"
     ]
    }
   ],
   "source": [
    "model.summary()"
   ]
  },
  {
   "cell_type": "code",
   "execution_count": 1446,
   "metadata": {
    "collapsed": true
   },
   "outputs": [],
   "source": [
    "early_stop = EarlyStopping(monitor='loss', patience=1, verbose=1)"
   ]
  },
  {
   "cell_type": "code",
   "execution_count": 1447,
   "metadata": {},
   "outputs": [
    {
     "name": "stdout",
     "output_type": "stream",
     "text": [
      "Epoch 1/100\n",
      "228/228 [==============================] - 4s - loss: 0.0164     \n",
      "Epoch 2/100\n",
      "228/228 [==============================] - 2s - loss: 0.0081     \n",
      "Epoch 3/100\n",
      "228/228 [==============================] - 2s - loss: 0.0073     \n",
      "Epoch 4/100\n",
      "228/228 [==============================] - 2s - loss: 0.0068     - E\n",
      "Epoch 5/100\n",
      "228/228 [==============================] - 2s - loss: 0.0066     \n",
      "Epoch 6/100\n",
      "228/228 [==============================] - 2s - loss: 0.0063     \n",
      "Epoch 7/100\n",
      "228/228 [==============================] - 2s - loss: 0.0062     \n",
      "Epoch 8/100\n",
      "228/228 [==============================] - 2s - loss: 0.0059     \n",
      "Epoch 9/100\n",
      "228/228 [==============================] - 2s - loss: 0.0058     \n",
      "Epoch 10/100\n",
      "228/228 [==============================] - 2s - loss: 0.0056     \n",
      "Epoch 11/100\n",
      "228/228 [==============================] - 2s - loss: 0.0055     \n",
      "Epoch 12/100\n",
      "228/228 [==============================] - 2s - loss: 0.0053     \n",
      "Epoch 13/100\n",
      "228/228 [==============================] - 2s - loss: 0.0051     \n",
      "Epoch 14/100\n",
      "228/228 [==============================] - 2s - loss: 0.0051     \n",
      "Epoch 15/100\n",
      "228/228 [==============================] - 2s - loss: 0.0050     \n",
      "Epoch 16/100\n",
      "228/228 [==============================] - 2s - loss: 0.0049     \n",
      "Epoch 17/100\n",
      "228/228 [==============================] - 2s - loss: 0.0048     \n",
      "Epoch 18/100\n",
      "228/228 [==============================] - 2s - loss: 0.0046     \n",
      "Epoch 19/100\n",
      "228/228 [==============================] - 2s - loss: 0.0046     \n",
      "Epoch 20/100\n",
      "228/228 [==============================] - 2s - loss: 0.0045     \n",
      "Epoch 21/100\n",
      "228/228 [==============================] - 2s - loss: 0.0043     \n",
      "Epoch 22/100\n",
      "228/228 [==============================] - 2s - loss: 0.0043     \n",
      "Epoch 23/100\n",
      "228/228 [==============================] - 2s - loss: 0.0042     \n",
      "Epoch 24/100\n",
      "228/228 [==============================] - 2s - loss: 0.0041     \n",
      "Epoch 25/100\n",
      "228/228 [==============================] - 2s - loss: 0.0041     \n",
      "Epoch 26/100\n",
      "228/228 [==============================] - 2s - loss: 0.0040     \n",
      "Epoch 27/100\n",
      "228/228 [==============================] - 2s - loss: 0.0039     \n",
      "Epoch 28/100\n",
      "228/228 [==============================] - 2s - loss: 0.0038     \n",
      "Epoch 29/100\n",
      "228/228 [==============================] - 2s - loss: 0.0038     \n",
      "Epoch 30/100\n",
      "228/228 [==============================] - 2s - loss: 0.0037     \n",
      "Epoch 31/100\n",
      "228/228 [==============================] - 2s - loss: 0.0036     \n",
      "Epoch 32/100\n",
      "228/228 [==============================] - 2s - loss: 0.0036     \n",
      "Epoch 33/100\n",
      "228/228 [==============================] - 2s - loss: 0.0035     \n",
      "Epoch 34/100\n",
      "228/228 [==============================] - 2s - loss: 0.0034     \n",
      "Epoch 35/100\n",
      "228/228 [==============================] - 2s - loss: 0.0035     \n",
      "Epoch 36/100\n",
      "228/228 [==============================] - 2s - loss: 0.0034     \n",
      "Epoch 37/100\n",
      "228/228 [==============================] - 2s - loss: 0.0033     \n",
      "Epoch 38/100\n",
      "228/228 [==============================] - 2s - loss: 0.0033     \n",
      "Epoch 39/100\n",
      "228/228 [==============================] - 2s - loss: 0.0032     \n",
      "Epoch 40/100\n",
      "228/228 [==============================] - 2s - loss: 0.0032     \n",
      "Epoch 41/100\n",
      "228/228 [==============================] - 2s - loss: 0.0032     \n",
      "Epoch 42/100\n",
      "228/228 [==============================] - 2s - loss: 0.0031     \n",
      "Epoch 43/100\n",
      "228/228 [==============================] - 2s - loss: 0.0030     \n",
      "Epoch 44/100\n",
      "228/228 [==============================] - 2s - loss: 0.0030     \n",
      "Epoch 45/100\n",
      "228/228 [==============================] - 2s - loss: 0.0030     \n",
      "Epoch 46/100\n",
      "228/228 [==============================] - 2s - loss: 0.0029     \n",
      "Epoch 47/100\n",
      "228/228 [==============================] - 2s - loss: 0.0029     \n",
      "Epoch 48/100\n",
      "228/228 [==============================] - 2s - loss: 0.0029     \n",
      "Epoch 49/100\n",
      "228/228 [==============================] - 2s - loss: 0.0028     \n",
      "Epoch 50/100\n",
      "228/228 [==============================] - 2s - loss: 0.0028     \n",
      "Epoch 51/100\n",
      "228/228 [==============================] - 2s - loss: 0.0028     \n",
      "Epoch 52/100\n",
      "228/228 [==============================] - 2s - loss: 0.0027     \n",
      "Epoch 53/100\n",
      "228/228 [==============================] - 2s - loss: 0.0027     \n",
      "Epoch 54/100\n",
      "228/228 [==============================] - 2s - loss: 0.0027     \n",
      "Epoch 55/100\n",
      "228/228 [==============================] - 2s - loss: 0.0026     \n",
      "Epoch 56/100\n",
      "228/228 [==============================] - 2s - loss: 0.0026     \n",
      "Epoch 57/100\n",
      "228/228 [==============================] - 2s - loss: 0.0026     \n",
      "Epoch 58/100\n",
      "228/228 [==============================] - 2s - loss: 0.0026     \n",
      "Epoch 59/100\n",
      "228/228 [==============================] - 2s - loss: 0.0026     \n",
      "Epoch 60/100\n",
      "228/228 [==============================] - 2s - loss: 0.0025     \n",
      "Epoch 61/100\n",
      "228/228 [==============================] - 2s - loss: 0.0025     \n",
      "Epoch 62/100\n",
      "228/228 [==============================] - 2s - loss: 0.0025     \n",
      "Epoch 63/100\n",
      "228/228 [==============================] - 2s - loss: 0.0025     \n",
      "Epoch 64/100\n",
      "228/228 [==============================] - 2s - loss: 0.0025     \n",
      "Epoch 65/100\n",
      "228/228 [==============================] - 2s - loss: 0.0024     \n",
      "Epoch 66/100\n",
      "228/228 [==============================] - 2s - loss: 0.0024     \n",
      "Epoch 67/100\n",
      "228/228 [==============================] - 2s - loss: 0.0024     \n",
      "Epoch 68/100\n",
      "228/228 [==============================] - 2s - loss: 0.0024     \n",
      "Epoch 69/100\n",
      "228/228 [==============================] - 2s - loss: 0.0024     \n",
      "Epoch 70/100\n",
      "228/228 [==============================] - ETA: 0s - loss: 0.002 - 2s - loss: 0.0023     \n",
      "Epoch 71/100\n",
      "228/228 [==============================] - 2s - loss: 0.0023     \n",
      "Epoch 72/100\n",
      "228/228 [==============================] - 2s - loss: 0.0023     \n",
      "Epoch 73/100\n",
      "228/228 [==============================] - 2s - loss: 0.0023     \n",
      "Epoch 74/100\n",
      "228/228 [==============================] - 2s - loss: 0.0023     \n",
      "Epoch 75/100\n",
      "228/228 [==============================] - 2s - loss: 0.0022     \n",
      "Epoch 76/100\n",
      "228/228 [==============================] - 2s - loss: 0.0022     \n",
      "Epoch 77/100\n",
      "228/228 [==============================] - 2s - loss: 0.0022     \n",
      "Epoch 78/100\n",
      "228/228 [==============================] - 2s - loss: 0.0022     \n",
      "Epoch 79/100\n",
      "228/228 [==============================] - 2s - loss: 0.0022     \n",
      "Epoch 80/100\n",
      "228/228 [==============================] - 2s - loss: 0.0022     \n",
      "Epoch 81/100\n",
      "228/228 [==============================] - 2s - loss: 0.0022     \n",
      "Epoch 82/100\n",
      "228/228 [==============================] - 2s - loss: 0.0021     \n",
      "Epoch 83/100\n",
      "228/228 [==============================] - 2s - loss: 0.0021     \n",
      "Epoch 84/100\n",
      "228/228 [==============================] - 2s - loss: 0.0021     \n",
      "Epoch 85/100\n",
      "228/228 [==============================] - 2s - loss: 0.0021     \n",
      "Epoch 00084: early stopping\n"
     ]
    },
    {
     "data": {
      "text/plain": [
       "<keras.callbacks.History at 0x1824d06d8>"
      ]
     },
     "execution_count": 1447,
     "metadata": {},
     "output_type": "execute_result"
    }
   ],
   "source": [
    "model.fit(X_train_t, y_train, epochs=100,\n",
    "          batch_size=1, verbose=1, callbacks=[early_stop])"
   ]
  },
  {
   "cell_type": "code",
   "execution_count": 1448,
   "metadata": {},
   "outputs": [
    {
     "data": {
      "text/plain": [
       "[<matplotlib.lines.Line2D at 0x181800f60>]"
      ]
     },
     "execution_count": 1448,
     "metadata": {},
     "output_type": "execute_result"
    },
    {
     "data": {
      "image/png": "[encoded data removed]",
      "text/plain": [
       "<matplotlib.figure.Figure at 0x182561710>"
      ]
     },
     "metadata": {},
     "output_type": "display_data"
    }
   ],
   "source": [
    "y_pred = model.predict(X_test_t)\n",
    "plt.plot(y_test)\n",
    "plt.plot(y_pred)"
   ]
  },
  {
   "cell_type": "code",
   "execution_count": null,
   "metadata": {},
   "outputs": [],
   "source": []
  },
  {
   "cell_type": "code",
   "execution_count": null,
   "metadata": {},
   "outputs": [],
   "source": []
  },
  {
   "cell_type": "code",
   "execution_count": null,
   "metadata": {
    "collapsed": true
   },
   "outputs": [],
   "source": []
  },
  {
   "cell_type": "code",
   "execution_count": null,
   "metadata": {
    "collapsed": true
   },
   "outputs": [],
   "source": []
  },
  {
   "cell_type": "code",
   "execution_count": null,
   "metadata": {
    "collapsed": true
   },
   "outputs": [],
   "source": []
  },
  {
   "cell_type": "code",
   "execution_count": null,
   "metadata": {
    "collapsed": true
   },
   "outputs": [],
   "source": []
  },
  {
   "cell_type": "code",
   "execution_count": null,
   "metadata": {
    "collapsed": true
   },
   "outputs": [],
   "source": []
  }
 ],
 "metadata": {
  "kernelspec": {
   "display_name": "Python 3",
   "language": "python",
   "name": "python3"
  },
  "language_info": {
   "codemirror_mode": {
    "name": "ipython",
    "version": 3
   },
   "file_extension": ".py",
   "mimetype": "text/x-python",
   "name": "python",
   "nbconvert_exporter": "python",
   "pygments_lexer": "ipython3",
   "version": "3.5.4"
  }
 },
 "nbformat": 4,
 "nbformat_minor": 2
}
